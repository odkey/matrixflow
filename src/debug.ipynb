{
 "cells": [
  {
   "cell_type": "code",
   "execution_count": 49,
   "metadata": {},
   "outputs": [
    {
     "name": "stdout",
     "output_type": "stream",
     "text": [
      "The autoreload extension is already loaded. To reload it, use:\n",
      "  %reload_ext autoreload\n"
     ]
    }
   ],
   "source": [
    "%load_ext autoreload\n",
    "%autoreload 2"
   ]
  },
  {
   "cell_type": "code",
   "execution_count": 50,
   "metadata": {},
   "outputs": [],
   "source": [
    "import json\n",
    "import requests\n",
    "from models.cnn.cnn import CNN\n",
    "from pathlib import Path"
   ]
  },
  {
   "cell_type": "code",
   "execution_count": 51,
   "metadata": {},
   "outputs": [],
   "source": [
    "url = \"http://localhost:8081\"\n",
    "recipe_url = url + \"/recipes\""
   ]
  },
  {
   "cell_type": "code",
   "execution_count": 52,
   "metadata": {},
   "outputs": [
    {
     "data": {
      "text/plain": [
       "200"
      ]
     },
     "execution_count": 52,
     "metadata": {},
     "output_type": "execute_result"
    }
   ],
   "source": [
    "r = requests.get(url)\n",
    "r.status_code"
   ]
  },
  {
   "cell_type": "code",
   "execution_count": 53,
   "metadata": {},
   "outputs": [
    {
     "name": "stdout",
     "output_type": "stream",
     "text": [
      "True\n"
     ]
    },
    {
     "data": {
      "text/plain": [
       "{'list': [{'body': {'layers': [{'height': 28,\n",
       "      'nClass': 10,\n",
       "      'name': 'input',\n",
       "      'width': 28},\n",
       "     {'layers': [{'name': 'reshape', 'shape': [-1, 28, 28, 1]},\n",
       "       {'act': 'relu', 'name': 'conv2d', 'outSize': 32},\n",
       "       {'name': 'max_pool'},\n",
       "       {'act': 'relu', 'name': 'conv2d', 'outSize': 64},\n",
       "       {'name': 'max_pool'},\n",
       "       {'name': 'flatten'},\n",
       "       {'act': 'relu', 'name': 'fc', 'outSize': 1024},\n",
       "       {'act': 'ident', 'name': 'fc', 'outSize': 10}],\n",
       "      'name': 'hidden'},\n",
       "     {'name': 'loss'},\n",
       "     {'name': 'acc'}],\n",
       "    'train': {'batch_size': 64,\n",
       "     'epoch': 0.05,\n",
       "     'learning_rate': 0.001,\n",
       "     'saver': {'evaluate_every': 100, 'num_checkpoints': 5}}},\n",
       "   'create_time': '2018-05-24 20:20:24',\n",
       "   'id': '20180524202024',\n",
       "   'update_time': '2018-05-24 20:20:24'},\n",
       "  {'body': {'layers': [{'height': 28,\n",
       "      'nClass': 10,\n",
       "      'name': 'input',\n",
       "      'width': 28},\n",
       "     {'layers': [{'name': 'reshape', 'shape': [-1, 28, 28, 1]},\n",
       "       {'act': 'relu', 'name': 'conv2d', 'outSize': 32},\n",
       "       {'name': 'max_pool'},\n",
       "       {'act': 'relu', 'name': 'conv2d', 'outSize': 64},\n",
       "       {'name': 'max_pool'},\n",
       "       {'name': 'flatten'},\n",
       "       {'act': 'relu', 'name': 'fc', 'outSize': 1024},\n",
       "       {'act': 'ident', 'name': 'fc', 'outSize': 10}],\n",
       "      'name': 'hidden'},\n",
       "     {'name': 'loss'},\n",
       "     {'name': 'acc'}],\n",
       "    'train': {'batch_size': 64,\n",
       "     'epoch': 0.05,\n",
       "     'learning_rate': 1e-05,\n",
       "     'saver': {'evaluate_every': 100, 'num_checkpoints': 5}}},\n",
       "   'create_time': '2018-05-26 17:08:26',\n",
       "   'id': '20180526170826',\n",
       "   'update_time': '2018-05-26 17:08:26'},\n",
       "  {'body': None,\n",
       "   'create_time': '2018-05-25 21:37:48',\n",
       "   'id': '20180525213748',\n",
       "   'update_time': '2018-05-25 21:37:48'},\n",
       "  {'body': {'layers': [{'height': 28,\n",
       "      'nClass': 10,\n",
       "      'name': 'input',\n",
       "      'width': 28},\n",
       "     {'layers': [{'name': 'reshape', 'shape': [-1, 28, 28, 1]},\n",
       "       {'act': 'relu', 'name': 'conv2d', 'outSize': 32},\n",
       "       {'name': 'max_pool'},\n",
       "       {'act': 'relu', 'name': 'conv2d', 'outSize': 64},\n",
       "       {'name': 'max_pool'},\n",
       "       {'name': 'flatten'},\n",
       "       {'act': 'relu', 'name': 'fc', 'outSize': 1024},\n",
       "       {'act': 'ident', 'name': 'fc', 'outSize': 10}],\n",
       "      'name': 'hidden'},\n",
       "     {'name': 'loss'},\n",
       "     {'name': 'acc'}],\n",
       "    'train': {'batch_size': 64,\n",
       "     'epoch': 0.05,\n",
       "     'learning_rate': 0.001,\n",
       "     'saver': {'evaluate_every': 100, 'num_checkpoints': 5}}},\n",
       "   'create_time': '2018-05-26 12:55:17',\n",
       "   'id': '20180526125517',\n",
       "   'update_time': '2018-05-26 12:55:17'},\n",
       "  {'body': {'layers': [{'height': 28,\n",
       "      'nClass': 10,\n",
       "      'name': 'input',\n",
       "      'width': 28},\n",
       "     {'layers': [{'name': 'reshape', 'shape': [-1, 28, 28, 1]},\n",
       "       {'act': 'relu', 'name': 'conv2d', 'outSize': 32},\n",
       "       {'name': 'max_pool'},\n",
       "       {'act': 'relu', 'name': 'conv2d', 'outSize': 64},\n",
       "       {'name': 'max_pool'},\n",
       "       {'name': 'flatten'},\n",
       "       {'act': 'relu', 'name': 'fc', 'outSize': 1024},\n",
       "       {'act': 'ident', 'name': 'fc', 'outSize': 10}],\n",
       "      'name': 'hidden'},\n",
       "     {'name': 'loss'},\n",
       "     {'name': 'acc'}],\n",
       "    'train': {'batch_size': 64,\n",
       "     'epoch': 0.05,\n",
       "     'learning_rate': 0.001,\n",
       "     'saver': {'evaluate_every': 100, 'num_checkpoints': 5}}},\n",
       "   'create_time': '2018-05-26 12:57:48',\n",
       "   'id': '20180526125748',\n",
       "   'update_time': '2018-05-26 12:57:48'},\n",
       "  {'body': {'layers': [{'height': 28,\n",
       "      'nClass': 10,\n",
       "      'name': 'input',\n",
       "      'width': 28},\n",
       "     {'layers': [{'name': 'reshape', 'shape': [-1, 28, 28, 1]},\n",
       "       {'act': 'relu', 'name': 'conv2d', 'outSize': 32},\n",
       "       {'name': 'max_pool'},\n",
       "       {'act': 'relu', 'name': 'conv2d', 'outSize': 64},\n",
       "       {'name': 'max_pool'},\n",
       "       {'name': 'flatten'},\n",
       "       {'act': 'relu', 'name': 'fc', 'outSize': 1024},\n",
       "       {'act': 'ident', 'name': 'fc', 'outSize': 10}],\n",
       "      'name': 'hidden'},\n",
       "     {'name': 'loss'},\n",
       "     {'name': 'acc'}],\n",
       "    'train': {'batch_size': 64,\n",
       "     'epoch': 0.05,\n",
       "     'learning_rate': 0.001,\n",
       "     'saver': {'evaluate_every': 100, 'num_checkpoints': 5}}},\n",
       "   'create_time': '2018-05-26 12:49:47',\n",
       "   'id': '20180526124947',\n",
       "   'update_time': '2018-05-26 12:49:47'},\n",
       "  {'body': {'layers': [{'height': 28,\n",
       "      'nClass': 10,\n",
       "      'name': 'input',\n",
       "      'width': 28},\n",
       "     {'layers': [{'name': 'reshape', 'shape': [-1, 28, 28, 1]},\n",
       "       {'act': 'relu', 'name': 'conv2d', 'outSize': 32},\n",
       "       {'name': 'max_pool'},\n",
       "       {'act': 'relu', 'name': 'conv2d', 'outSize': 64},\n",
       "       {'name': 'max_pool'},\n",
       "       {'name': 'flatten'},\n",
       "       {'act': 'relu', 'name': 'fc', 'outSize': 1024},\n",
       "       {'act': 'ident', 'name': 'fc', 'outSize': 10}],\n",
       "      'name': 'hidden'},\n",
       "     {'name': 'loss'},\n",
       "     {'name': 'acc'}],\n",
       "    'train': {'batch_size': 64,\n",
       "     'epoch': 0.05,\n",
       "     'learning_rate': 0.001,\n",
       "     'saver': {'evaluate_every': 100, 'num_checkpoints': 5}}},\n",
       "   'create_time': '2018-05-26 12:58:03',\n",
       "   'id': '20180526125803',\n",
       "   'update_time': '2018-05-26 12:58:03'},\n",
       "  {'body': {'layers': [{'height': 28,\n",
       "      'nClass': 10,\n",
       "      'name': 'input',\n",
       "      'width': 28},\n",
       "     {'layers': [{'name': 'reshape', 'shape': [-1, 28, 28, 1]},\n",
       "       {'act': 'relu', 'name': 'conv2d', 'outSize': 32},\n",
       "       {'name': 'max_pool'},\n",
       "       {'act': 'relu', 'name': 'conv2d', 'outSize': 64},\n",
       "       {'name': 'max_pool'},\n",
       "       {'name': 'flatten'},\n",
       "       {'act': 'relu', 'name': 'fc', 'outSize': 1024},\n",
       "       {'act': 'ident', 'name': 'fc', 'outSize': 10}],\n",
       "      'name': 'hidden'},\n",
       "     {'name': 'loss'},\n",
       "     {'name': 'acc'}],\n",
       "    'train': {'batch_size': 64,\n",
       "     'epoch': 0.05,\n",
       "     'learning_rate': 1e-05,\n",
       "     'saver': {'evaluate_every': 100, 'num_checkpoints': 5}}},\n",
       "   'create_time': '2018-05-26 17:06:59',\n",
       "   'id': '20180526170659',\n",
       "   'update_time': '2018-05-26 17:06:59'},\n",
       "  {'body': {'layers': [{'height': 28,\n",
       "      'nClass': 10,\n",
       "      'name': 'input',\n",
       "      'width': 28},\n",
       "     {'layers': [{'name': 'reshape', 'shape': [-1, 28, 28, 1]},\n",
       "       {'act': 'relu', 'name': 'conv2d', 'outSize': 32},\n",
       "       {'name': 'max_pool'},\n",
       "       {'act': 'relu', 'name': 'conv2d', 'outSize': 64},\n",
       "       {'name': 'max_pool'},\n",
       "       {'name': 'flatten'},\n",
       "       {'act': 'relu', 'name': 'fc', 'outSize': 1024},\n",
       "       {'act': 'ident', 'name': 'fc', 'outSize': 10}],\n",
       "      'name': 'hidden'},\n",
       "     {'name': 'loss'},\n",
       "     {'name': 'acc'}],\n",
       "    'train': {'batch_size': 64,\n",
       "     'epoch': 0.05,\n",
       "     'learning_rate': 0.001,\n",
       "     'saver': {'evaluate_every': 100, 'num_checkpoints': 5}}},\n",
       "   'create_time': '2018-05-26 12:43:14',\n",
       "   'id': '20180526124314',\n",
       "   'update_time': '2018-05-26 12:43:14'},\n",
       "  {'body': {'layers': [{'height': 28,\n",
       "      'nClass': 10,\n",
       "      'name': 'input',\n",
       "      'width': 28},\n",
       "     {'layers': [{'name': 'reshape', 'shape': [-1, 28, 28, 1]},\n",
       "       {'act': 'relu', 'name': 'conv2d', 'outSize': 32},\n",
       "       {'name': 'max_pool'},\n",
       "       {'act': 'relu', 'name': 'conv2d', 'outSize': 64},\n",
       "       {'name': 'max_pool'},\n",
       "       {'name': 'flatten'},\n",
       "       {'act': 'relu', 'name': 'fc', 'outSize': 1024},\n",
       "       {'act': 'ident', 'name': 'fc', 'outSize': 10}],\n",
       "      'name': 'hidden'},\n",
       "     {'name': 'loss'},\n",
       "     {'name': 'acc'}],\n",
       "    'train': {'batch_size': 64,\n",
       "     'epoch': 0.05,\n",
       "     'learning_rate': 1e-05,\n",
       "     'saver': {'evaluate_every': 10, 'num_checkpoints': 5}}},\n",
       "   'create_time': '2018-05-27 01:12:03',\n",
       "   'id': '20180526171111',\n",
       "   'update_time': '2018-05-27 01:12:03'},\n",
       "  {'body': {'layers': [{'height': 28,\n",
       "      'nClass': 10,\n",
       "      'name': 'input',\n",
       "      'width': 28},\n",
       "     {'layers': [{'name': 'reshape', 'shape': [-1, 28, 28, 1]},\n",
       "       {'act': 'relu', 'name': 'conv2d', 'outSize': 32},\n",
       "       {'name': 'max_pool'},\n",
       "       {'act': 'relu', 'name': 'conv2d', 'outSize': 64},\n",
       "       {'name': 'max_pool'},\n",
       "       {'name': 'flatten'},\n",
       "       {'act': 'relu', 'name': 'fc', 'outSize': 1024},\n",
       "       {'act': 'ident', 'name': 'fc', 'outSize': 10}],\n",
       "      'name': 'hidden'},\n",
       "     {'name': 'loss'},\n",
       "     {'name': 'acc'}],\n",
       "    'train': {'batch_size': 64,\n",
       "     'epoch': 0.05,\n",
       "     'learning_rate': 0.001,\n",
       "     'saver': {'evaluate_every': 100, 'num_checkpoints': 5}}},\n",
       "   'create_time': '2018-05-26 16:11:28',\n",
       "   'id': '20180526161128',\n",
       "   'update_time': '2018-05-26 16:11:28'},\n",
       "  {'body': None,\n",
       "   'create_time': '2018-05-25 21:42:26',\n",
       "   'id': '20180525214226',\n",
       "   'update_time': '2018-05-25 21:42:26'},\n",
       "  {'body': None,\n",
       "   'create_time': '2018-05-25 21:38:09',\n",
       "   'id': '20180525213809',\n",
       "   'update_time': '2018-05-25 21:38:09'},\n",
       "  {'body': {'layers': [{'height': 28,\n",
       "      'nClass': 10,\n",
       "      'name': 'input',\n",
       "      'width': 28},\n",
       "     {'layers': [{'name': 'reshape', 'shape': [-1, 28, 28, 1]},\n",
       "       {'act': 'relu', 'name': 'conv2d', 'outSize': 32},\n",
       "       {'name': 'max_pool'},\n",
       "       {'act': 'relu', 'name': 'conv2d', 'outSize': 64},\n",
       "       {'name': 'max_pool'},\n",
       "       {'name': 'flatten'},\n",
       "       {'act': 'relu', 'name': 'fc', 'outSize': 1024},\n",
       "       {'act': 'ident', 'name': 'fc', 'outSize': 10}],\n",
       "      'name': 'hidden'},\n",
       "     {'name': 'loss'},\n",
       "     {'name': 'acc'}],\n",
       "    'train': {'batch_size': 64,\n",
       "     'epoch': 0.05,\n",
       "     'learning_rate': 0.001,\n",
       "     'saver': {'evaluate_every': 100, 'num_checkpoints': 5}}},\n",
       "   'create_time': '2018-05-26 12:49:59',\n",
       "   'id': '20180526124959',\n",
       "   'update_time': '2018-05-26 12:49:59'},\n",
       "  {'body': {'layers': [{'height': 28,\n",
       "      'nClass': 10,\n",
       "      'name': 'input',\n",
       "      'width': 28},\n",
       "     {'layers': [{'name': 'reshape', 'shape': [-1, 28, 28, 1]},\n",
       "       {'act': 'relu', 'name': 'conv2d', 'outSize': 32},\n",
       "       {'name': 'max_pool'},\n",
       "       {'act': 'relu', 'name': 'conv2d', 'outSize': 64},\n",
       "       {'name': 'max_pool'},\n",
       "       {'name': 'flatten'},\n",
       "       {'act': 'relu', 'name': 'fc', 'outSize': 1024},\n",
       "       {'act': 'ident', 'name': 'fc', 'outSize': 10}],\n",
       "      'name': 'hidden'},\n",
       "     {'name': 'loss'},\n",
       "     {'name': 'acc'}],\n",
       "    'train': {'batch_size': 64,\n",
       "     'epoch': 0.05,\n",
       "     'learning_rate': 0.001,\n",
       "     'saver': {'evaluate_every': 100, 'num_checkpoints': 5}}},\n",
       "   'create_time': '2018-05-26 12:55:30',\n",
       "   'id': '20180526125530',\n",
       "   'update_time': '2018-05-26 12:55:30'},\n",
       "  {'body': {'layers': [{'height': 28,\n",
       "      'nClass': 10,\n",
       "      'name': 'input',\n",
       "      'width': 28},\n",
       "     {'layers': [{'name': 'reshape', 'shape': [-1, 28, 28, 1]},\n",
       "       {'act': 'relu', 'name': 'conv2d', 'outSize': 32},\n",
       "       {'name': 'max_pool'},\n",
       "       {'act': 'relu', 'name': 'conv2d', 'outSize': 64},\n",
       "       {'name': 'max_pool'},\n",
       "       {'name': 'flatten'},\n",
       "       {'act': 'relu', 'name': 'fc', 'outSize': 1024},\n",
       "       {'act': 'ident', 'name': 'fc', 'outSize': 10}],\n",
       "      'name': 'hidden'},\n",
       "     {'name': 'loss'},\n",
       "     {'name': 'acc'}],\n",
       "    'train': {'batch_size': 64,\n",
       "     'epoch': 0.05,\n",
       "     'learning_rate': 0.001,\n",
       "     'saver': {'evaluate_every': 100, 'num_checkpoints': 5}}},\n",
       "   'create_time': '2018-05-26 12:55:09',\n",
       "   'id': '20180526125509',\n",
       "   'update_time': '2018-05-26 12:55:09'},\n",
       "  {'body': {'layers': [{'height': 28,\n",
       "      'nClass': 10,\n",
       "      'name': 'input',\n",
       "      'width': 28},\n",
       "     {'layers': [{'name': 'reshape', 'shape': [-1, 28, 28, 1]},\n",
       "       {'act': 'relu', 'name': 'conv2d', 'outSize': 32},\n",
       "       {'name': 'max_pool'},\n",
       "       {'act': 'relu', 'name': 'conv2d', 'outSize': 64},\n",
       "       {'name': 'max_pool'},\n",
       "       {'name': 'flatten'},\n",
       "       {'act': 'relu', 'name': 'fc', 'outSize': 1024},\n",
       "       {'act': 'ident', 'name': 'fc', 'outSize': 10}],\n",
       "      'name': 'hidden'},\n",
       "     {'name': 'loss'},\n",
       "     {'name': 'acc'}],\n",
       "    'train': {'batch_size': 64,\n",
       "     'epoch': 0.05,\n",
       "     'learning_rate': 0.001,\n",
       "     'saver': {'evaluate_every': 100, 'num_checkpoints': 5}}},\n",
       "   'create_time': '2018-05-24 20:00:40',\n",
       "   'id': '20180524200040',\n",
       "   'update_time': '2018-05-24 20:00:40'},\n",
       "  {'body': {'layers': [{'height': 28,\n",
       "      'nClass': 10,\n",
       "      'name': 'input',\n",
       "      'width': 28},\n",
       "     {'layers': [{'name': 'reshape', 'shape': [-1, 28, 28, 1]},\n",
       "       {'act': 'relu', 'name': 'conv2d', 'outSize': 32},\n",
       "       {'name': 'max_pool'},\n",
       "       {'act': 'relu', 'name': 'conv2d', 'outSize': 64},\n",
       "       {'name': 'max_pool'},\n",
       "       {'name': 'flatten'},\n",
       "       {'act': 'relu', 'name': 'fc', 'outSize': 1024},\n",
       "       {'act': 'ident', 'name': 'fc', 'outSize': 10}],\n",
       "      'name': 'hidden'},\n",
       "     {'name': 'loss'},\n",
       "     {'name': 'acc'}],\n",
       "    'train': {'batch_size': 64,\n",
       "     'epoch': 0.05,\n",
       "     'learning_rate': 1e-05,\n",
       "     'saver': {'evaluate_every': 100, 'num_checkpoints': 5}}},\n",
       "   'create_time': '2018-05-26 17:08:38',\n",
       "   'id': '20180526170838',\n",
       "   'update_time': '2018-05-26 17:08:38'}],\n",
       " 'total': 18}"
      ]
     },
     "execution_count": 53,
     "metadata": {},
     "output_type": "execute_result"
    }
   ],
   "source": [
    "r = requests.get(recipe_url)\n",
    "j = json.loads(r.content)\n",
    "print(len(j[\"list\"])==j[\"total\"])\n",
    "j"
   ]
  },
  {
   "cell_type": "code",
   "execution_count": 54,
   "metadata": {},
   "outputs": [
    {
     "data": {
      "text/plain": [
       "b'{\"list\": [{\"id\": \"20180526170826\", \"body\": {\"layers\": [{\"name\": \"input\", \"width\": 28, \"height\": 28, \"nClass\": 10}, {\"name\": \"hidden\", \"layers\": [{\"name\": \"reshape\", \"shape\": [-1, 28, 28, 1]}, {\"name\": \"conv2d\", \"outSize\": 32, \"act\": \"relu\"}, {\"name\": \"max_pool\"}, {\"name\": \"conv2d\", \"outSize\": 64, \"act\": \"relu\"}, {\"name\": \"max_pool\"}, {\"name\": \"flatten\"}, {\"name\": \"fc\", \"outSize\": 1024, \"act\": \"relu\"}, {\"name\": \"fc\", \"outSize\": 10, \"act\": \"ident\"}]}, {\"name\": \"loss\"}, {\"name\": \"acc\"}], \"train\": {\"learning_rate\": 1e-05, \"batch_size\": 64, \"epoch\": 0.05, \"saver\": {\"evaluate_every\": 100, \"num_checkpoints\": 5}}}, \"update_time\": \"2018-05-26 17:08:26\", \"create_time\": \"2018-05-26 17:08:26\"}, {\"id\": \"20180525213748\", \"body\": null, \"update_time\": \"2018-05-25 21:37:48\", \"create_time\": \"2018-05-25 21:37:48\"}, {\"id\": \"20180526125517\", \"body\": {\"layers\": [{\"name\": \"input\", \"width\": 28, \"height\": 28, \"nClass\": 10}, {\"name\": \"hidden\", \"layers\": [{\"name\": \"reshape\", \"shape\": [-1, 28, 28, 1]}, {\"name\": \"conv2d\", \"outSize\": 32, \"act\": \"relu\"}, {\"name\": \"max_pool\"}, {\"name\": \"conv2d\", \"outSize\": 64, \"act\": \"relu\"}, {\"name\": \"max_pool\"}, {\"name\": \"flatten\"}, {\"name\": \"fc\", \"outSize\": 1024, \"act\": \"relu\"}, {\"name\": \"fc\", \"outSize\": 10, \"act\": \"ident\"}]}, {\"name\": \"loss\"}, {\"name\": \"acc\"}], \"train\": {\"learning_rate\": 0.001, \"batch_size\": 64, \"epoch\": 0.05, \"saver\": {\"evaluate_every\": 100, \"num_checkpoints\": 5}}}, \"update_time\": \"2018-05-26 12:55:17\", \"create_time\": \"2018-05-26 12:55:17\"}, {\"id\": \"20180526125748\", \"body\": {\"layers\": [{\"name\": \"input\", \"width\": 28, \"height\": 28, \"nClass\": 10}, {\"name\": \"hidden\", \"layers\": [{\"name\": \"reshape\", \"shape\": [-1, 28, 28, 1]}, {\"name\": \"conv2d\", \"outSize\": 32, \"act\": \"relu\"}, {\"name\": \"max_pool\"}, {\"name\": \"conv2d\", \"outSize\": 64, \"act\": \"relu\"}, {\"name\": \"max_pool\"}, {\"name\": \"flatten\"}, {\"name\": \"fc\", \"outSize\": 1024, \"act\": \"relu\"}, {\"name\": \"fc\", \"outSize\": 10, \"act\": \"ident\"}]}, {\"name\": \"loss\"}, {\"name\": \"acc\"}], \"train\": {\"learning_rate\": 0.001, \"batch_size\": 64, \"epoch\": 0.05, \"saver\": {\"evaluate_every\": 100, \"num_checkpoints\": 5}}}, \"update_time\": \"2018-05-26 12:57:48\", \"create_time\": \"2018-05-26 12:57:48\"}, {\"id\": \"20180526124947\", \"body\": {\"layers\": [{\"name\": \"input\", \"width\": 28, \"height\": 28, \"nClass\": 10}, {\"name\": \"hidden\", \"layers\": [{\"name\": \"reshape\", \"shape\": [-1, 28, 28, 1]}, {\"name\": \"conv2d\", \"outSize\": 32, \"act\": \"relu\"}, {\"name\": \"max_pool\"}, {\"name\": \"conv2d\", \"outSize\": 64, \"act\": \"relu\"}, {\"name\": \"max_pool\"}, {\"name\": \"flatten\"}, {\"name\": \"fc\", \"outSize\": 1024, \"act\": \"relu\"}, {\"name\": \"fc\", \"outSize\": 10, \"act\": \"ident\"}]}, {\"name\": \"loss\"}, {\"name\": \"acc\"}], \"train\": {\"learning_rate\": 0.001, \"batch_size\": 64, \"epoch\": 0.05, \"saver\": {\"evaluate_every\": 100, \"num_checkpoints\": 5}}}, \"update_time\": \"2018-05-26 12:49:47\", \"create_time\": \"2018-05-26 12:49:47\"}, {\"id\": \"20180526125803\", \"body\": {\"layers\": [{\"name\": \"input\", \"width\": 28, \"height\": 28, \"nClass\": 10}, {\"name\": \"hidden\", \"layers\": [{\"name\": \"reshape\", \"shape\": [-1, 28, 28, 1]}, {\"name\": \"conv2d\", \"outSize\": 32, \"act\": \"relu\"}, {\"name\": \"max_pool\"}, {\"name\": \"conv2d\", \"outSize\": 64, \"act\": \"relu\"}, {\"name\": \"max_pool\"}, {\"name\": \"flatten\"}, {\"name\": \"fc\", \"outSize\": 1024, \"act\": \"relu\"}, {\"name\": \"fc\", \"outSize\": 10, \"act\": \"ident\"}]}, {\"name\": \"loss\"}, {\"name\": \"acc\"}], \"train\": {\"learning_rate\": 0.001, \"batch_size\": 64, \"epoch\": 0.05, \"saver\": {\"evaluate_every\": 100, \"num_checkpoints\": 5}}}, \"update_time\": \"2018-05-26 12:58:03\", \"create_time\": \"2018-05-26 12:58:03\"}, {\"id\": \"20180526170659\", \"body\": {\"layers\": [{\"name\": \"input\", \"width\": 28, \"height\": 28, \"nClass\": 10}, {\"name\": \"hidden\", \"layers\": [{\"name\": \"reshape\", \"shape\": [-1, 28, 28, 1]}, {\"name\": \"conv2d\", \"outSize\": 32, \"act\": \"relu\"}, {\"name\": \"max_pool\"}, {\"name\": \"conv2d\", \"outSize\": 64, \"act\": \"relu\"}, {\"name\": \"max_pool\"}, {\"name\": \"flatten\"}, {\"name\": \"fc\", \"outSize\": 1024, \"act\": \"relu\"}, {\"name\": \"fc\", \"outSize\": 10, \"act\": \"ident\"}]}, {\"name\": \"loss\"}, {\"name\": \"acc\"}], \"train\": {\"learning_rate\": 1e-05, \"batch_size\": 64, \"epoch\": 0.05, \"saver\": {\"evaluate_every\": 100, \"num_checkpoints\": 5}}}, \"update_time\": \"2018-05-26 17:06:59\", \"create_time\": \"2018-05-26 17:06:59\"}, {\"id\": \"20180526124314\", \"body\": {\"layers\": [{\"name\": \"input\", \"width\": 28, \"height\": 28, \"nClass\": 10}, {\"name\": \"hidden\", \"layers\": [{\"name\": \"reshape\", \"shape\": [-1, 28, 28, 1]}, {\"name\": \"conv2d\", \"outSize\": 32, \"act\": \"relu\"}, {\"name\": \"max_pool\"}, {\"name\": \"conv2d\", \"outSize\": 64, \"act\": \"relu\"}, {\"name\": \"max_pool\"}, {\"name\": \"flatten\"}, {\"name\": \"fc\", \"outSize\": 1024, \"act\": \"relu\"}, {\"name\": \"fc\", \"outSize\": 10, \"act\": \"ident\"}]}, {\"name\": \"loss\"}, {\"name\": \"acc\"}], \"train\": {\"learning_rate\": 0.001, \"batch_size\": 64, \"epoch\": 0.05, \"saver\": {\"evaluate_every\": 100, \"num_checkpoints\": 5}}}, \"update_time\": \"2018-05-26 12:43:14\", \"create_time\": \"2018-05-26 12:43:14\"}, {\"id\": \"20180526171111\", \"body\": {\"layers\": [{\"name\": \"input\", \"width\": 28, \"height\": 28, \"nClass\": 10}, {\"name\": \"hidden\", \"layers\": [{\"name\": \"reshape\", \"shape\": [-1, 28, 28, 1]}, {\"name\": \"conv2d\", \"outSize\": 32, \"act\": \"relu\"}, {\"name\": \"max_pool\"}, {\"name\": \"conv2d\", \"outSize\": 64, \"act\": \"relu\"}, {\"name\": \"max_pool\"}, {\"name\": \"flatten\"}, {\"name\": \"fc\", \"outSize\": 1024, \"act\": \"relu\"}, {\"name\": \"fc\", \"outSize\": 10, \"act\": \"ident\"}]}, {\"name\": \"loss\"}, {\"name\": \"acc\"}], \"train\": {\"learning_rate\": 1e-05, \"batch_size\": 64, \"epoch\": 0.05, \"saver\": {\"evaluate_every\": 10, \"num_checkpoints\": 5}}}, \"update_time\": \"2018-05-27 01:12:03\", \"create_time\": \"2018-05-27 01:12:03\"}, {\"id\": \"20180526161128\", \"body\": {\"layers\": [{\"name\": \"input\", \"width\": 28, \"height\": 28, \"nClass\": 10}, {\"name\": \"hidden\", \"layers\": [{\"name\": \"reshape\", \"shape\": [-1, 28, 28, 1]}, {\"name\": \"conv2d\", \"outSize\": 32, \"act\": \"relu\"}, {\"name\": \"max_pool\"}, {\"name\": \"conv2d\", \"outSize\": 64, \"act\": \"relu\"}, {\"name\": \"max_pool\"}, {\"name\": \"flatten\"}, {\"name\": \"fc\", \"outSize\": 1024, \"act\": \"relu\"}, {\"name\": \"fc\", \"outSize\": 10, \"act\": \"ident\"}]}, {\"name\": \"loss\"}, {\"name\": \"acc\"}], \"train\": {\"learning_rate\": 0.001, \"batch_size\": 64, \"epoch\": 0.05, \"saver\": {\"evaluate_every\": 100, \"num_checkpoints\": 5}}}, \"update_time\": \"2018-05-26 16:11:28\", \"create_time\": \"2018-05-26 16:11:28\"}, {\"id\": \"20180525214226\", \"body\": null, \"update_time\": \"2018-05-25 21:42:26\", \"create_time\": \"2018-05-25 21:42:26\"}, {\"id\": \"20180525213809\", \"body\": null, \"update_time\": \"2018-05-25 21:38:09\", \"create_time\": \"2018-05-25 21:38:09\"}, {\"id\": \"20180526124959\", \"body\": {\"layers\": [{\"name\": \"input\", \"width\": 28, \"height\": 28, \"nClass\": 10}, {\"name\": \"hidden\", \"layers\": [{\"name\": \"reshape\", \"shape\": [-1, 28, 28, 1]}, {\"name\": \"conv2d\", \"outSize\": 32, \"act\": \"relu\"}, {\"name\": \"max_pool\"}, {\"name\": \"conv2d\", \"outSize\": 64, \"act\": \"relu\"}, {\"name\": \"max_pool\"}, {\"name\": \"flatten\"}, {\"name\": \"fc\", \"outSize\": 1024, \"act\": \"relu\"}, {\"name\": \"fc\", \"outSize\": 10, \"act\": \"ident\"}]}, {\"name\": \"loss\"}, {\"name\": \"acc\"}], \"train\": {\"learning_rate\": 0.001, \"batch_size\": 64, \"epoch\": 0.05, \"saver\": {\"evaluate_every\": 100, \"num_checkpoints\": 5}}}, \"update_time\": \"2018-05-26 12:49:59\", \"create_time\": \"2018-05-26 12:49:59\"}, {\"id\": \"20180526125530\", \"body\": {\"layers\": [{\"name\": \"input\", \"width\": 28, \"height\": 28, \"nClass\": 10}, {\"name\": \"hidden\", \"layers\": [{\"name\": \"reshape\", \"shape\": [-1, 28, 28, 1]}, {\"name\": \"conv2d\", \"outSize\": 32, \"act\": \"relu\"}, {\"name\": \"max_pool\"}, {\"name\": \"conv2d\", \"outSize\": 64, \"act\": \"relu\"}, {\"name\": \"max_pool\"}, {\"name\": \"flatten\"}, {\"name\": \"fc\", \"outSize\": 1024, \"act\": \"relu\"}, {\"name\": \"fc\", \"outSize\": 10, \"act\": \"ident\"}]}, {\"name\": \"loss\"}, {\"name\": \"acc\"}], \"train\": {\"learning_rate\": 0.001, \"batch_size\": 64, \"epoch\": 0.05, \"saver\": {\"evaluate_every\": 100, \"num_checkpoints\": 5}}}, \"update_time\": \"2018-05-26 12:55:30\", \"create_time\": \"2018-05-26 12:55:30\"}, {\"id\": \"20180526125509\", \"body\": {\"layers\": [{\"name\": \"input\", \"width\": 28, \"height\": 28, \"nClass\": 10}, {\"name\": \"hidden\", \"layers\": [{\"name\": \"reshape\", \"shape\": [-1, 28, 28, 1]}, {\"name\": \"conv2d\", \"outSize\": 32, \"act\": \"relu\"}, {\"name\": \"max_pool\"}, {\"name\": \"conv2d\", \"outSize\": 64, \"act\": \"relu\"}, {\"name\": \"max_pool\"}, {\"name\": \"flatten\"}, {\"name\": \"fc\", \"outSize\": 1024, \"act\": \"relu\"}, {\"name\": \"fc\", \"outSize\": 10, \"act\": \"ident\"}]}, {\"name\": \"loss\"}, {\"name\": \"acc\"}], \"train\": {\"learning_rate\": 0.001, \"batch_size\": 64, \"epoch\": 0.05, \"saver\": {\"evaluate_every\": 100, \"num_checkpoints\": 5}}}, \"update_time\": \"2018-05-26 12:55:09\", \"create_time\": \"2018-05-26 12:55:09\"}, {\"id\": \"20180524200040\", \"body\": {\"layers\": [{\"name\": \"input\", \"width\": 28, \"height\": 28, \"nClass\": 10}, {\"name\": \"hidden\", \"layers\": [{\"name\": \"reshape\", \"shape\": [-1, 28, 28, 1]}, {\"name\": \"conv2d\", \"outSize\": 32, \"act\": \"relu\"}, {\"name\": \"max_pool\"}, {\"name\": \"conv2d\", \"outSize\": 64, \"act\": \"relu\"}, {\"name\": \"max_pool\"}, {\"name\": \"flatten\"}, {\"name\": \"fc\", \"outSize\": 1024, \"act\": \"relu\"}, {\"name\": \"fc\", \"outSize\": 10, \"act\": \"ident\"}]}, {\"name\": \"loss\"}, {\"name\": \"acc\"}], \"train\": {\"learning_rate\": 0.001, \"batch_size\": 64, \"epoch\": 0.05, \"saver\": {\"evaluate_every\": 100, \"num_checkpoints\": 5}}}, \"update_time\": \"2018-05-24 20:00:40\", \"create_time\": \"2018-05-24 20:00:40\"}, {\"id\": \"20180526170838\", \"body\": {\"layers\": [{\"name\": \"input\", \"width\": 28, \"height\": 28, \"nClass\": 10}, {\"name\": \"hidden\", \"layers\": [{\"name\": \"reshape\", \"shape\": [-1, 28, 28, 1]}, {\"name\": \"conv2d\", \"outSize\": 32, \"act\": \"relu\"}, {\"name\": \"max_pool\"}, {\"name\": \"conv2d\", \"outSize\": 64, \"act\": \"relu\"}, {\"name\": \"max_pool\"}, {\"name\": \"flatten\"}, {\"name\": \"fc\", \"outSize\": 1024, \"act\": \"relu\"}, {\"name\": \"fc\", \"outSize\": 10, \"act\": \"ident\"}]}, {\"name\": \"loss\"}, {\"name\": \"acc\"}], \"train\": {\"learning_rate\": 1e-05, \"batch_size\": 64, \"epoch\": 0.05, \"saver\": {\"evaluate_every\": 100, \"num_checkpoints\": 5}}}, \"update_time\": \"2018-05-26 17:08:38\", \"create_time\": \"2018-05-26 17:08:38\"}], \"total\": 18}'"
      ]
     },
     "execution_count": 54,
     "metadata": {},
     "output_type": "execute_result"
    }
   ],
   "source": [
    "r = requests.get(url+\"/recipes?offset=1\")\n",
    "r.content"
   ]
  },
  {
   "cell_type": "code",
   "execution_count": 55,
   "metadata": {},
   "outputs": [],
   "source": [
    "from pathlib import Path"
   ]
  },
  {
   "cell_type": "code",
   "execution_count": 56,
   "metadata": {},
   "outputs": [],
   "source": [
    "recipe  = {\n",
    "  \"layers\": [\n",
    "    {\"name\": \"input\", \"width\": 28, \"height\": 28, \"nClass\": 10},\n",
    "    {\n",
    "      \"name\": \"hidden\",\n",
    "      \"layers\":[\n",
    "        {\"name\": \"reshape\", \"shape\":[-1, 28, 28, 1]},\n",
    "        {\"name\": \"conv2d\", \"outSize\": 32, \"act\": \"relu\"}, {\"name\": \"max_pool\"},\n",
    "        {\"name\": \"conv2d\", \"outSize\": 64, \"act\": \"relu\"},\n",
    "        {\"name\": \"max_pool\"},\n",
    "        {\"name\": \"flatten\"},\n",
    "        {\"name\": \"fc\", \"outSize\": 1024, \"act\": \"relu\"},\n",
    "        {\"name\": \"fc\", \"outSize\": 10, \"act\": \"ident\"}\n",
    "      ]\n",
    "    },\n",
    "    {\"name\": \"loss\"},\n",
    "    {\"name\": \"acc\"}\n",
    "  ],\n",
    "  \"train\": {\n",
    "    \"learning_rate\": 1e-3,\n",
    "    \"batch_size\": 64,\n",
    "    \"epoch\": 0.05,\n",
    "    \"saver\": {\n",
    "      \"evaluate_every\": 100,\n",
    "      \"num_checkpoints\": 5\n",
    "    }\n",
    "  }\n",
    "}"
   ]
  },
  {
   "cell_type": "code",
   "execution_count": 57,
   "metadata": {},
   "outputs": [
    {
     "data": {
      "text/plain": [
       "{'body': {'layers': [{'height': 28,\n",
       "    'nClass': 10,\n",
       "    'name': 'input',\n",
       "    'width': 28},\n",
       "   {'layers': [{'name': 'reshape', 'shape': [-1, 28, 28, 1]},\n",
       "     {'act': 'relu', 'name': 'conv2d', 'outSize': 32},\n",
       "     {'name': 'max_pool'},\n",
       "     {'act': 'relu', 'name': 'conv2d', 'outSize': 64},\n",
       "     {'name': 'max_pool'},\n",
       "     {'name': 'flatten'},\n",
       "     {'act': 'relu', 'name': 'fc', 'outSize': 1024},\n",
       "     {'act': 'ident', 'name': 'fc', 'outSize': 10}],\n",
       "    'name': 'hidden'},\n",
       "   {'name': 'loss'},\n",
       "   {'name': 'acc'}],\n",
       "  'train': {'batch_size': 64,\n",
       "   'epoch': 0.05,\n",
       "   'learning_rate': 0.001,\n",
       "   'saver': {'evaluate_every': 100, 'num_checkpoints': 5}}},\n",
       " 'id': '20180603184147'}"
      ]
     },
     "execution_count": 57,
     "metadata": {},
     "output_type": "execute_result"
    }
   ],
   "source": [
    "headers = {'Content-type': 'application/json', 'Accept': 'text/plain'}\n",
    "r = requests.post(recipe_url, data=json.dumps(recipe), headers=headers)\n",
    "r = r.json()\n",
    "r"
   ]
  },
  {
   "cell_type": "code",
   "execution_count": null,
   "metadata": {},
   "outputs": [],
   "source": []
  },
  {
   "cell_type": "code",
   "execution_count": 58,
   "metadata": {},
   "outputs": [
    {
     "data": {
      "text/plain": [
       "{'body': {'layers': [{'height': 28,\n",
       "    'nClass': 10,\n",
       "    'name': 'input',\n",
       "    'width': 28},\n",
       "   {'layers': [{'name': 'reshape', 'shape': [-1, 28, 28, 1]},\n",
       "     {'act': 'relu', 'name': 'conv2d', 'outSize': 32},\n",
       "     {'name': 'max_pool'},\n",
       "     {'act': 'relu', 'name': 'conv2d', 'outSize': 64},\n",
       "     {'name': 'max_pool'},\n",
       "     {'name': 'flatten'},\n",
       "     {'act': 'relu', 'name': 'fc', 'outSize': 1024},\n",
       "     {'act': 'ident', 'name': 'fc', 'outSize': 10}],\n",
       "    'name': 'hidden'},\n",
       "   {'name': 'loss'},\n",
       "   {'name': 'acc'}],\n",
       "  'train': {'batch_size': 64,\n",
       "   'epoch': 0.05,\n",
       "   'learning_rate': 0.001,\n",
       "   'saver': {'evaluate_every': 100, 'num_checkpoints': 5}}},\n",
       " 'id': '20180603184147'}"
      ]
     },
     "execution_count": 58,
     "metadata": {},
     "output_type": "execute_result"
    }
   ],
   "source": [
    "r = requests.get(url+\"/recipes/\"+r[\"id\"])\n",
    "r = r.json()\n",
    "r"
   ]
  },
  {
   "cell_type": "code",
   "execution_count": 59,
   "metadata": {},
   "outputs": [
    {
     "data": {
      "text/plain": [
       "{'body': {'layers': [{'height': 28,\n",
       "    'nClass': 10,\n",
       "    'name': 'input',\n",
       "    'width': 28},\n",
       "   {'layers': [{'name': 'reshape', 'shape': [-1, 28, 28, 1]},\n",
       "     {'act': 'relu', 'name': 'conv2d', 'outSize': 32},\n",
       "     {'name': 'max_pool'},\n",
       "     {'act': 'relu', 'name': 'conv2d', 'outSize': 64},\n",
       "     {'name': 'max_pool'},\n",
       "     {'name': 'flatten'},\n",
       "     {'act': 'relu', 'name': 'fc', 'outSize': 1024},\n",
       "     {'act': 'ident', 'name': 'fc', 'outSize': 10}],\n",
       "    'name': 'hidden'},\n",
       "   {'name': 'loss'},\n",
       "   {'name': 'acc'}],\n",
       "  'train': {'batch_size': 64,\n",
       "   'epoch': 0.05,\n",
       "   'learning_rate': 1e-05,\n",
       "   'saver': {'evaluate_every': 100, 'num_checkpoints': 5}}},\n",
       " 'id': '20180603184147'}"
      ]
     },
     "execution_count": 59,
     "metadata": {},
     "output_type": "execute_result"
    }
   ],
   "source": [
    "recipe  = {\n",
    "  \"layers\": [\n",
    "    {\"name\": \"input\", \"width\": 28, \"height\": 28, \"nClass\": 10},\n",
    "    {\n",
    "      \"name\": \"hidden\",\n",
    "      \"layers\":[\n",
    "        {\"name\": \"reshape\", \"shape\":[-1, 28, 28, 1]},\n",
    "        {\"name\": \"conv2d\", \"outSize\": 32, \"act\": \"relu\"}, {\"name\": \"max_pool\"},\n",
    "        {\"name\": \"conv2d\", \"outSize\": 64, \"act\": \"relu\"},\n",
    "        {\"name\": \"max_pool\"},\n",
    "        {\"name\": \"flatten\"},\n",
    "        {\"name\": \"fc\", \"outSize\": 1024, \"act\": \"relu\"},\n",
    "        {\"name\": \"fc\", \"outSize\": 10, \"act\": \"ident\"}\n",
    "      ]\n",
    "    },\n",
    "    {\"name\": \"loss\"},\n",
    "    {\"name\": \"acc\"}\n",
    "  ],\n",
    "  \"train\": {\n",
    "    \"learning_rate\": 1e-5,\n",
    "    \"batch_size\": 64,\n",
    "    \"epoch\": 0.05,\n",
    "    \"saver\": {\n",
    "      \"evaluate_every\": 100,\n",
    "      \"num_checkpoints\": 5\n",
    "    }\n",
    "  }\n",
    "}\n",
    "headers = {'Content-type': 'application/json', 'Accept': 'text/plain'}\n",
    "r = requests.put(recipe_url+\"/\"+r[\"id\"], data=json.dumps(recipe), headers=headers)\n",
    "r = r.json()\n",
    "r"
   ]
  },
  {
   "cell_type": "code",
   "execution_count": 60,
   "metadata": {},
   "outputs": [
    {
     "data": {
      "text/plain": [
       "<Response [200]>"
      ]
     },
     "execution_count": 60,
     "metadata": {},
     "output_type": "execute_result"
    }
   ],
   "source": [
    "r = requests.delete(recipe_url+\"/\"+r[\"id\"])\n",
    "r"
   ]
  },
  {
   "cell_type": "code",
   "execution_count": 61,
   "metadata": {},
   "outputs": [
    {
     "name": "stdout",
     "output_type": "stream",
     "text": [
      "init CNN model from recipe_id:  20180526171111\n",
      "./recipes/20180526171111/recipe.json\n",
      "{\n",
      "  \"layers\": [\n",
      "    {\n",
      "      \"name\": \"input\",\n",
      "      \"width\": 28,\n",
      "      \"height\": 28,\n",
      "      \"nClass\": 10\n",
      "    },\n",
      "    {\n",
      "      \"name\": \"hidden\",\n",
      "      \"layers\": [\n",
      "        {\n",
      "          \"name\": \"reshape\",\n",
      "          \"shape\": [\n",
      "            -1,\n",
      "            28,\n",
      "            28,\n",
      "            1\n",
      "          ]\n",
      "        },\n",
      "        {\n",
      "          \"name\": \"conv2d\",\n",
      "          \"outSize\": 32,\n",
      "          \"act\": \"relu\"\n",
      "        },\n",
      "        {\n",
      "          \"name\": \"max_pool\"\n",
      "        },\n",
      "        {\n",
      "          \"name\": \"conv2d\",\n",
      "          \"outSize\": 64,\n",
      "          \"act\": \"relu\"\n",
      "        },\n",
      "        {\n",
      "          \"name\": \"max_pool\"\n",
      "        },\n",
      "        {\n",
      "          \"name\": \"flatten\"\n",
      "        },\n",
      "        {\n",
      "          \"name\": \"fc\",\n",
      "          \"outSize\": 1024,\n",
      "          \"act\": \"relu\"\n",
      "        },\n",
      "        {\n",
      "          \"name\": \"fc\",\n",
      "          \"outSize\": 10,\n",
      "          \"act\": \"ident\"\n",
      "        }\n",
      "      ]\n",
      "    },\n",
      "    {\n",
      "      \"name\": \"loss\"\n",
      "    },\n",
      "    {\n",
      "      \"name\": \"acc\"\n",
      "    }\n",
      "  ],\n",
      "  \"train\": {\n",
      "    \"learning_rate\": 1e-05,\n",
      "    \"batch_size\": 64,\n",
      "    \"epoch\": 0.05,\n",
      "    \"saver\": {\n",
      "      \"evaluate_every\": 10,\n",
      "      \"num_checkpoints\": 5\n",
      "    }\n",
      "  }\n",
      "}\n"
     ]
    }
   ],
   "source": [
    "model = CNN(\"20180526171111\")"
   ]
  },
  {
   "cell_type": "code",
   "execution_count": 64,
   "metadata": {},
   "outputs": [
    {
     "name": "stdout",
     "output_type": "stream",
     "text": [
      "# of images:  10000\n",
      "test/train:  0.1\n",
      "test/train: 1000/9000 = 0.1111\n",
      "start session\n",
      "input\n",
      "hidden\n",
      "loss\n",
      "acc\n"
     ]
    },
    {
     "name": "stderr",
     "output_type": "stream",
     "text": [
      "  0%|          | 2/450 [00:00<01:41,  4.43it/s]"
     ]
    },
    {
     "name": "stdout",
     "output_type": "stream",
     "text": [
      "step 0, training loss 2.27086, training accuracy 0.15625\n"
     ]
    },
    {
     "name": "stderr",
     "output_type": "stream",
     "text": [
      "  3%|▎         | 12/450 [00:01<01:09,  6.35it/s]"
     ]
    },
    {
     "name": "stdout",
     "output_type": "stream",
     "text": [
      "step 10, training loss 2.23844, training accuracy 0.203125\n"
     ]
    },
    {
     "name": "stderr",
     "output_type": "stream",
     "text": [
      "  5%|▍         | 22/450 [00:03<01:05,  6.56it/s]"
     ]
    },
    {
     "name": "stdout",
     "output_type": "stream",
     "text": [
      "step 20, training loss 2.17134, training accuracy 0.484375\n"
     ]
    },
    {
     "name": "stderr",
     "output_type": "stream",
     "text": [
      "  7%|▋         | 32/450 [00:04<01:01,  6.82it/s]"
     ]
    },
    {
     "name": "stdout",
     "output_type": "stream",
     "text": [
      "step 30, training loss 2.10933, training accuracy 0.578125\n"
     ]
    },
    {
     "name": "stderr",
     "output_type": "stream",
     "text": [
      "  9%|▉         | 42/450 [00:05<00:58,  7.01it/s]"
     ]
    },
    {
     "name": "stdout",
     "output_type": "stream",
     "text": [
      "step 40, training loss 1.98545, training accuracy 0.671875\n"
     ]
    },
    {
     "name": "stderr",
     "output_type": "stream",
     "text": [
      " 11%|█         | 50/450 [00:07<00:56,  7.08it/s]"
     ]
    },
    {
     "name": "stdout",
     "output_type": "stream",
     "text": [
      "step 50, training loss 1.90442, training accuracy 0.671875\n"
     ]
    },
    {
     "name": "stderr",
     "output_type": "stream",
     "text": [
      " 12%|█▏        | 52/450 [00:08<01:05,  6.06it/s]"
     ]
    },
    {
     "name": "stdout",
     "output_type": "stream",
     "text": [
      "step 50, test loss 1.86887, test accuracy 0.742\n"
     ]
    },
    {
     "name": "stderr",
     "output_type": "stream",
     "text": [
      " 14%|█▍        | 62/450 [00:09<01:01,  6.28it/s]"
     ]
    },
    {
     "name": "stdout",
     "output_type": "stream",
     "text": [
      "step 60, training loss 1.75921, training accuracy 0.671875\n"
     ]
    },
    {
     "name": "stderr",
     "output_type": "stream",
     "text": [
      " 16%|█▌        | 72/450 [00:11<00:58,  6.44it/s]"
     ]
    },
    {
     "name": "stdout",
     "output_type": "stream",
     "text": [
      "step 70, training loss 1.64763, training accuracy 0.765625\n"
     ]
    },
    {
     "name": "stderr",
     "output_type": "stream",
     "text": [
      " 17%|█▋        | 75/450 [00:11<00:57,  6.48it/s]"
     ]
    },
    {
     "ename": "KeyboardInterrupt",
     "evalue": "",
     "output_type": "error",
     "traceback": [
      "\u001b[0;31m---------------------------------------------------------------------------\u001b[0m",
      "\u001b[0;31mKeyboardInterrupt\u001b[0m                         Traceback (most recent call last)",
      "\u001b[0;32m<ipython-input-64-b5a95e43a7f2>\u001b[0m in \u001b[0;36m<module>\u001b[0;34m()\u001b[0m\n\u001b[0;32m----> 1\u001b[0;31m \u001b[0mmodel\u001b[0m\u001b[0;34m.\u001b[0m\u001b[0mtrain\u001b[0m\u001b[0;34m(\u001b[0m\u001b[0;34m\"20180524202024\"\u001b[0m\u001b[0;34m)\u001b[0m\u001b[0;34m\u001b[0m\u001b[0m\n\u001b[0m",
      "\u001b[0;32m~/Workspace/matrixflow/src/models/cnn/cnn.py\u001b[0m in \u001b[0;36mtrain\u001b[0;34m(self, data_path, ws)\u001b[0m\n\u001b[1;32m    102\u001b[0m \u001b[0;34m\u001b[0m\u001b[0m\n\u001b[1;32m    103\u001b[0m                     \u001b[0mlabels\u001b[0m\u001b[0;34m,\u001b[0m \u001b[0mimages\u001b[0m \u001b[0;34m=\u001b[0m \u001b[0mself\u001b[0m\u001b[0;34m.\u001b[0m\u001b[0mima\u001b[0m\u001b[0;34m.\u001b[0m\u001b[0mnext_batch\u001b[0m\u001b[0;34m(\u001b[0m\u001b[0;34m\"train\"\u001b[0m\u001b[0;34m,\u001b[0m \u001b[0mbatch_size\u001b[0m\u001b[0;34m)\u001b[0m\u001b[0;34m\u001b[0m\u001b[0m\n\u001b[0;32m--> 104\u001b[0;31m                     \u001b[0msess\u001b[0m\u001b[0;34m.\u001b[0m\u001b[0mrun\u001b[0m\u001b[0;34m(\u001b[0m\u001b[0mtrain_op\u001b[0m\u001b[0;34m,\u001b[0m \u001b[0mfeed_dict\u001b[0m\u001b[0;34m=\u001b[0m\u001b[0;34m{\u001b[0m\u001b[0mself\u001b[0m\u001b[0;34m.\u001b[0m\u001b[0mx\u001b[0m\u001b[0;34m:\u001b[0m \u001b[0mimages\u001b[0m\u001b[0;34m,\u001b[0m \u001b[0mself\u001b[0m\u001b[0;34m.\u001b[0m\u001b[0my\u001b[0m\u001b[0;34m:\u001b[0m \u001b[0mlabels\u001b[0m\u001b[0;34m}\u001b[0m\u001b[0;34m)\u001b[0m\u001b[0;34m\u001b[0m\u001b[0m\n\u001b[0m\u001b[1;32m    105\u001b[0m                     \u001b[0;32mif\u001b[0m \u001b[0mi\u001b[0m \u001b[0;34m%\u001b[0m \u001b[0mconfig\u001b[0m\u001b[0;34m[\u001b[0m\u001b[0;34m\"saver\"\u001b[0m\u001b[0;34m]\u001b[0m\u001b[0;34m[\u001b[0m\u001b[0;34m\"evaluate_every\"\u001b[0m\u001b[0;34m]\u001b[0m \u001b[0;34m==\u001b[0m \u001b[0;36m0\u001b[0m\u001b[0;34m:\u001b[0m\u001b[0;34m\u001b[0m\u001b[0m\n\u001b[1;32m    106\u001b[0m                         train_loss, train_accuracy = sess.run(\n",
      "\u001b[0;32m~/anaconda2/envs/py3.6/lib/python3.6/site-packages/tensorflow/python/client/session.py\u001b[0m in \u001b[0;36mrun\u001b[0;34m(self, fetches, feed_dict, options, run_metadata)\u001b[0m\n\u001b[1;32m    898\u001b[0m     \u001b[0;32mtry\u001b[0m\u001b[0;34m:\u001b[0m\u001b[0;34m\u001b[0m\u001b[0m\n\u001b[1;32m    899\u001b[0m       result = self._run(None, fetches, feed_dict, options_ptr,\n\u001b[0;32m--> 900\u001b[0;31m                          run_metadata_ptr)\n\u001b[0m\u001b[1;32m    901\u001b[0m       \u001b[0;32mif\u001b[0m \u001b[0mrun_metadata\u001b[0m\u001b[0;34m:\u001b[0m\u001b[0;34m\u001b[0m\u001b[0m\n\u001b[1;32m    902\u001b[0m         \u001b[0mproto_data\u001b[0m \u001b[0;34m=\u001b[0m \u001b[0mtf_session\u001b[0m\u001b[0;34m.\u001b[0m\u001b[0mTF_GetBuffer\u001b[0m\u001b[0;34m(\u001b[0m\u001b[0mrun_metadata_ptr\u001b[0m\u001b[0;34m)\u001b[0m\u001b[0;34m\u001b[0m\u001b[0m\n",
      "\u001b[0;32m~/anaconda2/envs/py3.6/lib/python3.6/site-packages/tensorflow/python/client/session.py\u001b[0m in \u001b[0;36m_run\u001b[0;34m(self, handle, fetches, feed_dict, options, run_metadata)\u001b[0m\n\u001b[1;32m   1133\u001b[0m     \u001b[0;32mif\u001b[0m \u001b[0mfinal_fetches\u001b[0m \u001b[0;32mor\u001b[0m \u001b[0mfinal_targets\u001b[0m \u001b[0;32mor\u001b[0m \u001b[0;34m(\u001b[0m\u001b[0mhandle\u001b[0m \u001b[0;32mand\u001b[0m \u001b[0mfeed_dict_tensor\u001b[0m\u001b[0;34m)\u001b[0m\u001b[0;34m:\u001b[0m\u001b[0;34m\u001b[0m\u001b[0m\n\u001b[1;32m   1134\u001b[0m       results = self._do_run(handle, final_targets, final_fetches,\n\u001b[0;32m-> 1135\u001b[0;31m                              feed_dict_tensor, options, run_metadata)\n\u001b[0m\u001b[1;32m   1136\u001b[0m     \u001b[0;32melse\u001b[0m\u001b[0;34m:\u001b[0m\u001b[0;34m\u001b[0m\u001b[0m\n\u001b[1;32m   1137\u001b[0m       \u001b[0mresults\u001b[0m \u001b[0;34m=\u001b[0m \u001b[0;34m[\u001b[0m\u001b[0;34m]\u001b[0m\u001b[0;34m\u001b[0m\u001b[0m\n",
      "\u001b[0;32m~/anaconda2/envs/py3.6/lib/python3.6/site-packages/tensorflow/python/client/session.py\u001b[0m in \u001b[0;36m_do_run\u001b[0;34m(self, handle, target_list, fetch_list, feed_dict, options, run_metadata)\u001b[0m\n\u001b[1;32m   1314\u001b[0m     \u001b[0;32mif\u001b[0m \u001b[0mhandle\u001b[0m \u001b[0;32mis\u001b[0m \u001b[0;32mNone\u001b[0m\u001b[0;34m:\u001b[0m\u001b[0;34m\u001b[0m\u001b[0m\n\u001b[1;32m   1315\u001b[0m       return self._do_call(_run_fn, feeds, fetches, targets, options,\n\u001b[0;32m-> 1316\u001b[0;31m                            run_metadata)\n\u001b[0m\u001b[1;32m   1317\u001b[0m     \u001b[0;32melse\u001b[0m\u001b[0;34m:\u001b[0m\u001b[0;34m\u001b[0m\u001b[0m\n\u001b[1;32m   1318\u001b[0m       \u001b[0;32mreturn\u001b[0m \u001b[0mself\u001b[0m\u001b[0;34m.\u001b[0m\u001b[0m_do_call\u001b[0m\u001b[0;34m(\u001b[0m\u001b[0m_prun_fn\u001b[0m\u001b[0;34m,\u001b[0m \u001b[0mhandle\u001b[0m\u001b[0;34m,\u001b[0m \u001b[0mfeeds\u001b[0m\u001b[0;34m,\u001b[0m \u001b[0mfetches\u001b[0m\u001b[0;34m)\u001b[0m\u001b[0;34m\u001b[0m\u001b[0m\n",
      "\u001b[0;32m~/anaconda2/envs/py3.6/lib/python3.6/site-packages/tensorflow/python/client/session.py\u001b[0m in \u001b[0;36m_do_call\u001b[0;34m(self, fn, *args)\u001b[0m\n\u001b[1;32m   1320\u001b[0m   \u001b[0;32mdef\u001b[0m \u001b[0m_do_call\u001b[0m\u001b[0;34m(\u001b[0m\u001b[0mself\u001b[0m\u001b[0;34m,\u001b[0m \u001b[0mfn\u001b[0m\u001b[0;34m,\u001b[0m \u001b[0;34m*\u001b[0m\u001b[0margs\u001b[0m\u001b[0;34m)\u001b[0m\u001b[0;34m:\u001b[0m\u001b[0;34m\u001b[0m\u001b[0m\n\u001b[1;32m   1321\u001b[0m     \u001b[0;32mtry\u001b[0m\u001b[0;34m:\u001b[0m\u001b[0;34m\u001b[0m\u001b[0m\n\u001b[0;32m-> 1322\u001b[0;31m       \u001b[0;32mreturn\u001b[0m \u001b[0mfn\u001b[0m\u001b[0;34m(\u001b[0m\u001b[0;34m*\u001b[0m\u001b[0margs\u001b[0m\u001b[0;34m)\u001b[0m\u001b[0;34m\u001b[0m\u001b[0m\n\u001b[0m\u001b[1;32m   1323\u001b[0m     \u001b[0;32mexcept\u001b[0m \u001b[0merrors\u001b[0m\u001b[0;34m.\u001b[0m\u001b[0mOpError\u001b[0m \u001b[0;32mas\u001b[0m \u001b[0me\u001b[0m\u001b[0;34m:\u001b[0m\u001b[0;34m\u001b[0m\u001b[0m\n\u001b[1;32m   1324\u001b[0m       \u001b[0mmessage\u001b[0m \u001b[0;34m=\u001b[0m \u001b[0mcompat\u001b[0m\u001b[0;34m.\u001b[0m\u001b[0mas_text\u001b[0m\u001b[0;34m(\u001b[0m\u001b[0me\u001b[0m\u001b[0;34m.\u001b[0m\u001b[0mmessage\u001b[0m\u001b[0;34m)\u001b[0m\u001b[0;34m\u001b[0m\u001b[0m\n",
      "\u001b[0;32m~/anaconda2/envs/py3.6/lib/python3.6/site-packages/tensorflow/python/client/session.py\u001b[0m in \u001b[0;36m_run_fn\u001b[0;34m(feed_dict, fetch_list, target_list, options, run_metadata)\u001b[0m\n\u001b[1;32m   1305\u001b[0m       \u001b[0mself\u001b[0m\u001b[0;34m.\u001b[0m\u001b[0m_extend_graph\u001b[0m\u001b[0;34m(\u001b[0m\u001b[0;34m)\u001b[0m\u001b[0;34m\u001b[0m\u001b[0m\n\u001b[1;32m   1306\u001b[0m       return self._call_tf_sessionrun(\n\u001b[0;32m-> 1307\u001b[0;31m           options, feed_dict, fetch_list, target_list, run_metadata)\n\u001b[0m\u001b[1;32m   1308\u001b[0m \u001b[0;34m\u001b[0m\u001b[0m\n\u001b[1;32m   1309\u001b[0m     \u001b[0;32mdef\u001b[0m \u001b[0m_prun_fn\u001b[0m\u001b[0;34m(\u001b[0m\u001b[0mhandle\u001b[0m\u001b[0;34m,\u001b[0m \u001b[0mfeed_dict\u001b[0m\u001b[0;34m,\u001b[0m \u001b[0mfetch_list\u001b[0m\u001b[0;34m)\u001b[0m\u001b[0;34m:\u001b[0m\u001b[0;34m\u001b[0m\u001b[0m\n",
      "\u001b[0;32m~/anaconda2/envs/py3.6/lib/python3.6/site-packages/tensorflow/python/client/session.py\u001b[0m in \u001b[0;36m_call_tf_sessionrun\u001b[0;34m(self, options, feed_dict, fetch_list, target_list, run_metadata)\u001b[0m\n\u001b[1;32m   1407\u001b[0m       return tf_session.TF_SessionRun_wrapper(\n\u001b[1;32m   1408\u001b[0m           \u001b[0mself\u001b[0m\u001b[0;34m.\u001b[0m\u001b[0m_session\u001b[0m\u001b[0;34m,\u001b[0m \u001b[0moptions\u001b[0m\u001b[0;34m,\u001b[0m \u001b[0mfeed_dict\u001b[0m\u001b[0;34m,\u001b[0m \u001b[0mfetch_list\u001b[0m\u001b[0;34m,\u001b[0m \u001b[0mtarget_list\u001b[0m\u001b[0;34m,\u001b[0m\u001b[0;34m\u001b[0m\u001b[0m\n\u001b[0;32m-> 1409\u001b[0;31m           run_metadata)\n\u001b[0m\u001b[1;32m   1410\u001b[0m     \u001b[0;32melse\u001b[0m\u001b[0;34m:\u001b[0m\u001b[0;34m\u001b[0m\u001b[0m\n\u001b[1;32m   1411\u001b[0m       \u001b[0;32mwith\u001b[0m \u001b[0merrors\u001b[0m\u001b[0;34m.\u001b[0m\u001b[0mraise_exception_on_not_ok_status\u001b[0m\u001b[0;34m(\u001b[0m\u001b[0;34m)\u001b[0m \u001b[0;32mas\u001b[0m \u001b[0mstatus\u001b[0m\u001b[0;34m:\u001b[0m\u001b[0;34m\u001b[0m\u001b[0m\n",
      "\u001b[0;31mKeyboardInterrupt\u001b[0m: "
     ]
    }
   ],
   "source": [
    "model.train(\"20180524202024\")"
   ]
  },
  {
   "cell_type": "code",
   "execution_count": null,
   "metadata": {},
   "outputs": [],
   "source": [
    "model.ima.test_images[0]"
   ]
  },
  {
   "cell_type": "code",
   "execution_count": null,
   "metadata": {},
   "outputs": [],
   "source": [
    "model.ima.train_images[0]"
   ]
  },
  {
   "cell_type": "code",
   "execution_count": null,
   "metadata": {},
   "outputs": [],
   "source": [
    "model.ima.imread(str(model.ima.test_images[0])).shape"
   ]
  },
  {
   "cell_type": "code",
   "execution_count": null,
   "metadata": {},
   "outputs": [],
   "source": [
    "config = model.recipe[\"train\"]\n",
    "config"
   ]
  },
  {
   "cell_type": "code",
   "execution_count": null,
   "metadata": {
    "scrolled": false
   },
   "outputs": [],
   "source": [
    " if _ in range(epoch * self.ima.n_train):\n",
    "    labels, images = self.ima.next_batch(\"train\", batch_size)"
   ]
  },
  {
   "cell_type": "code",
   "execution_count": null,
   "metadata": {},
   "outputs": [],
   "source": []
  },
  {
   "cell_type": "code",
   "execution_count": 47,
   "metadata": {},
   "outputs": [],
   "source": [
    "from filemanager import get_data_list"
   ]
  },
  {
   "cell_type": "code",
   "execution_count": 48,
   "metadata": {},
   "outputs": [
    {
     "name": "stdout",
     "output_type": "stream",
     "text": [
      "[PosixPath('data/20180524202024')]\n",
      "10000\n",
      "data/20180524202024/images data/20180524202024/labels/labels.csv data/20180524202024/info/info.json\n"
     ]
    },
    {
     "data": {
      "text/plain": [
       "{'data_type': 'list',\n",
       " 'list': [{'body': {'description': 'sample data', 'name': 'mnist'},\n",
       "   'create_time': '2018-06-03 17:02:17',\n",
       "   'id': '20180524202024',\n",
       "   'nImages': 10000,\n",
       "   'nLabels': 10000,\n",
       "   'update_time': '2018-06-03 17:02:17'}],\n",
       " 'status': 'success',\n",
       " 'total': 1}"
      ]
     },
     "execution_count": 48,
     "metadata": {},
     "output_type": "execute_result"
    }
   ],
   "source": [
    "get_data_list()"
   ]
  },
  {
   "cell_type": "code",
   "execution_count": null,
   "metadata": {},
   "outputs": [],
   "source": []
  }
 ],
 "metadata": {
  "kernelspec": {
   "display_name": "Environment (conda_py3.6)",
   "language": "python",
   "name": "conda_py3.6"
  },
  "language_info": {
   "codemirror_mode": {
    "name": "ipython",
    "version": 3
   },
   "file_extension": ".py",
   "mimetype": "text/x-python",
   "name": "python",
   "nbconvert_exporter": "python",
   "pygments_lexer": "ipython3",
   "version": "3.6.4"
  }
 },
 "nbformat": 4,
 "nbformat_minor": 2
}
