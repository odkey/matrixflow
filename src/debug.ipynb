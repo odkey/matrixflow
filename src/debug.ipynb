{
 "cells": [
  {
   "cell_type": "code",
   "execution_count": 38,
   "metadata": {},
   "outputs": [
    {
     "name": "stdout",
     "output_type": "stream",
     "text": [
      "The autoreload extension is already loaded. To reload it, use:\n",
      "  %reload_ext autoreload\n"
     ]
    }
   ],
   "source": [
    "%load_ext autoreload\n",
    "%autoreload 2"
   ]
  },
  {
   "cell_type": "code",
   "execution_count": 39,
   "metadata": {},
   "outputs": [],
   "source": [
    "import json\n",
    "import requests\n",
    "from models.cnn.cnn import CNN\n",
    "from pathlib import Path"
   ]
  },
  {
   "cell_type": "code",
   "execution_count": 40,
   "metadata": {},
   "outputs": [],
   "source": [
    "url = \"http://localhost:8081\"\n",
    "recipe_url = url + \"/recipes\""
   ]
  },
  {
   "cell_type": "code",
   "execution_count": 41,
   "metadata": {},
   "outputs": [
    {
     "data": {
      "text/plain": [
       "200"
      ]
     },
     "execution_count": 41,
     "metadata": {},
     "output_type": "execute_result"
    }
   ],
   "source": [
    "r = requests.get(url)\n",
    "r.status_code"
   ]
  },
  {
   "cell_type": "code",
   "execution_count": 42,
   "metadata": {},
   "outputs": [
    {
     "name": "stdout",
     "output_type": "stream",
     "text": [
      "True\n"
     ]
    },
    {
     "data": {
      "text/plain": [
       "{'list': [{'body': {'layers': [{'height': 28,\n",
       "      'nClass': 10,\n",
       "      'name': 'input',\n",
       "      'width': 28},\n",
       "     {'layers': [{'name': 'reshape', 'shape': [-1, 28, 28, 1]},\n",
       "       {'act': 'relu', 'name': 'conv2d', 'outSize': 32},\n",
       "       {'name': 'max_pool'},\n",
       "       {'act': 'relu', 'name': 'conv2d', 'outSize': 64},\n",
       "       {'name': 'max_pool'},\n",
       "       {'name': 'flatten'},\n",
       "       {'act': 'relu', 'name': 'fc', 'outSize': 1024},\n",
       "       {'act': 'ident', 'name': 'fc', 'outSize': 10}],\n",
       "      'name': 'hidden'},\n",
       "     {'name': 'loss'},\n",
       "     {'name': 'acc'}],\n",
       "    'train': {'batch_size': 64,\n",
       "     'epoch': 0.05,\n",
       "     'learning_rate': 0.001,\n",
       "     'saver': {'evaluate_every': 100, 'num_checkpoints': 5}}},\n",
       "   'id': '20180524202024'},\n",
       "  {'body': None, 'id': '20180525213748'},\n",
       "  {'body': {'layers': [{'height': 28,\n",
       "      'nClass': 10,\n",
       "      'name': 'input',\n",
       "      'width': 28},\n",
       "     {'layers': [{'name': 'reshape', 'shape': [-1, 28, 28, 1]},\n",
       "       {'act': 'relu', 'name': 'conv2d', 'outSize': 32},\n",
       "       {'name': 'max_pool'},\n",
       "       {'act': 'relu', 'name': 'conv2d', 'outSize': 64},\n",
       "       {'name': 'max_pool'},\n",
       "       {'name': 'flatten'},\n",
       "       {'act': 'relu', 'name': 'fc', 'outSize': 1024},\n",
       "       {'act': 'ident', 'name': 'fc', 'outSize': 10}],\n",
       "      'name': 'hidden'},\n",
       "     {'name': 'loss'},\n",
       "     {'name': 'acc'}],\n",
       "    'train': {'batch_size': 64,\n",
       "     'epoch': 0.05,\n",
       "     'learning_rate': 0.001,\n",
       "     'saver': {'evaluate_every': 100, 'num_checkpoints': 5}}},\n",
       "   'id': '20180526125517'},\n",
       "  {'body': {'layers': [{'height': 28,\n",
       "      'nClass': 10,\n",
       "      'name': 'input',\n",
       "      'width': 28},\n",
       "     {'layers': [{'name': 'reshape', 'shape': [-1, 28, 28, 1]},\n",
       "       {'act': 'relu', 'name': 'conv2d', 'outSize': 32},\n",
       "       {'name': 'max_pool'},\n",
       "       {'act': 'relu', 'name': 'conv2d', 'outSize': 64},\n",
       "       {'name': 'max_pool'},\n",
       "       {'name': 'flatten'},\n",
       "       {'act': 'relu', 'name': 'fc', 'outSize': 1024},\n",
       "       {'act': 'ident', 'name': 'fc', 'outSize': 10}],\n",
       "      'name': 'hidden'},\n",
       "     {'name': 'loss'},\n",
       "     {'name': 'acc'}],\n",
       "    'train': {'batch_size': 64,\n",
       "     'epoch': 0.05,\n",
       "     'learning_rate': 0.001,\n",
       "     'saver': {'evaluate_every': 100, 'num_checkpoints': 5}}},\n",
       "   'id': '20180526125748'},\n",
       "  {'body': {'layers': [{'height': 28,\n",
       "      'nClass': 10,\n",
       "      'name': 'input',\n",
       "      'width': 28},\n",
       "     {'layers': [{'name': 'reshape', 'shape': [-1, 28, 28, 1]},\n",
       "       {'act': 'relu', 'name': 'conv2d', 'outSize': 32},\n",
       "       {'name': 'max_pool'},\n",
       "       {'act': 'relu', 'name': 'conv2d', 'outSize': 64},\n",
       "       {'name': 'max_pool'},\n",
       "       {'name': 'flatten'},\n",
       "       {'act': 'relu', 'name': 'fc', 'outSize': 1024},\n",
       "       {'act': 'ident', 'name': 'fc', 'outSize': 10}],\n",
       "      'name': 'hidden'},\n",
       "     {'name': 'loss'},\n",
       "     {'name': 'acc'}],\n",
       "    'train': {'batch_size': 64,\n",
       "     'epoch': 0.05,\n",
       "     'learning_rate': 0.001,\n",
       "     'saver': {'evaluate_every': 100, 'num_checkpoints': 5}}},\n",
       "   'id': '20180526124947'},\n",
       "  {'body': {'layers': [{'height': 28,\n",
       "      'nClass': 10,\n",
       "      'name': 'input',\n",
       "      'width': 28},\n",
       "     {'layers': [{'name': 'reshape', 'shape': [-1, 28, 28, 1]},\n",
       "       {'act': 'relu', 'name': 'conv2d', 'outSize': 32},\n",
       "       {'name': 'max_pool'},\n",
       "       {'act': 'relu', 'name': 'conv2d', 'outSize': 64},\n",
       "       {'name': 'max_pool'},\n",
       "       {'name': 'flatten'},\n",
       "       {'act': 'relu', 'name': 'fc', 'outSize': 1024},\n",
       "       {'act': 'ident', 'name': 'fc', 'outSize': 10}],\n",
       "      'name': 'hidden'},\n",
       "     {'name': 'loss'},\n",
       "     {'name': 'acc'}],\n",
       "    'train': {'batch_size': 64,\n",
       "     'epoch': 0.05,\n",
       "     'learning_rate': 0.001,\n",
       "     'saver': {'evaluate_every': 100, 'num_checkpoints': 5}}},\n",
       "   'id': '20180526125803'},\n",
       "  {'body': {'layers': [{'height': 28,\n",
       "      'nClass': 10,\n",
       "      'name': 'input',\n",
       "      'width': 28},\n",
       "     {'layers': [{'name': 'reshape', 'shape': [-1, 28, 28, 1]},\n",
       "       {'act': 'relu', 'name': 'conv2d', 'outSize': 32},\n",
       "       {'name': 'max_pool'},\n",
       "       {'act': 'relu', 'name': 'conv2d', 'outSize': 64},\n",
       "       {'name': 'max_pool'},\n",
       "       {'name': 'flatten'},\n",
       "       {'act': 'relu', 'name': 'fc', 'outSize': 1024},\n",
       "       {'act': 'ident', 'name': 'fc', 'outSize': 10}],\n",
       "      'name': 'hidden'},\n",
       "     {'name': 'loss'},\n",
       "     {'name': 'acc'}],\n",
       "    'train': {'batch_size': 64,\n",
       "     'epoch': 0.05,\n",
       "     'learning_rate': 0.001,\n",
       "     'saver': {'evaluate_every': 100, 'num_checkpoints': 5}}},\n",
       "   'id': '20180526124314'},\n",
       "  {'body': None, 'id': '20180525214226'},\n",
       "  {'body': None, 'id': '20180525213809'},\n",
       "  {'body': {'layers': [{'height': 28,\n",
       "      'nClass': 10,\n",
       "      'name': 'input',\n",
       "      'width': 28},\n",
       "     {'layers': [{'name': 'reshape', 'shape': [-1, 28, 28, 1]},\n",
       "       {'act': 'relu', 'name': 'conv2d', 'outSize': 32},\n",
       "       {'name': 'max_pool'},\n",
       "       {'act': 'relu', 'name': 'conv2d', 'outSize': 64},\n",
       "       {'name': 'max_pool'},\n",
       "       {'name': 'flatten'},\n",
       "       {'act': 'relu', 'name': 'fc', 'outSize': 1024},\n",
       "       {'act': 'ident', 'name': 'fc', 'outSize': 10}],\n",
       "      'name': 'hidden'},\n",
       "     {'name': 'loss'},\n",
       "     {'name': 'acc'}],\n",
       "    'train': {'batch_size': 64,\n",
       "     'epoch': 0.05,\n",
       "     'learning_rate': 0.001,\n",
       "     'saver': {'evaluate_every': 100, 'num_checkpoints': 5}}},\n",
       "   'id': '20180526124959'},\n",
       "  {'body': {'layers': [{'height': 28,\n",
       "      'nClass': 10,\n",
       "      'name': 'input',\n",
       "      'width': 28},\n",
       "     {'layers': [{'name': 'reshape', 'shape': [-1, 28, 28, 1]},\n",
       "       {'act': 'relu', 'name': 'conv2d', 'outSize': 32},\n",
       "       {'name': 'max_pool'},\n",
       "       {'act': 'relu', 'name': 'conv2d', 'outSize': 64},\n",
       "       {'name': 'max_pool'},\n",
       "       {'name': 'flatten'},\n",
       "       {'act': 'relu', 'name': 'fc', 'outSize': 1024},\n",
       "       {'act': 'ident', 'name': 'fc', 'outSize': 10}],\n",
       "      'name': 'hidden'},\n",
       "     {'name': 'loss'},\n",
       "     {'name': 'acc'}],\n",
       "    'train': {'batch_size': 64,\n",
       "     'epoch': 0.05,\n",
       "     'learning_rate': 0.001,\n",
       "     'saver': {'evaluate_every': 100, 'num_checkpoints': 5}}},\n",
       "   'id': '20180526125530'},\n",
       "  {'body': {'layers': [{'height': 28,\n",
       "      'nClass': 10,\n",
       "      'name': 'input',\n",
       "      'width': 28},\n",
       "     {'layers': [{'name': 'reshape', 'shape': [-1, 28, 28, 1]},\n",
       "       {'act': 'relu', 'name': 'conv2d', 'outSize': 32},\n",
       "       {'name': 'max_pool'},\n",
       "       {'act': 'relu', 'name': 'conv2d', 'outSize': 64},\n",
       "       {'name': 'max_pool'},\n",
       "       {'name': 'flatten'},\n",
       "       {'act': 'relu', 'name': 'fc', 'outSize': 1024},\n",
       "       {'act': 'ident', 'name': 'fc', 'outSize': 10}],\n",
       "      'name': 'hidden'},\n",
       "     {'name': 'loss'},\n",
       "     {'name': 'acc'}],\n",
       "    'train': {'batch_size': 64,\n",
       "     'epoch': 0.05,\n",
       "     'learning_rate': 0.001,\n",
       "     'saver': {'evaluate_every': 100, 'num_checkpoints': 5}}},\n",
       "   'id': '20180526125509'},\n",
       "  {'body': {'layers': [{'height': 28,\n",
       "      'nClass': 10,\n",
       "      'name': 'input',\n",
       "      'width': 28},\n",
       "     {'layers': [{'name': 'reshape', 'shape': [-1, 28, 28, 1]},\n",
       "       {'act': 'relu', 'name': 'conv2d', 'outSize': 32},\n",
       "       {'name': 'max_pool'},\n",
       "       {'act': 'relu', 'name': 'conv2d', 'outSize': 64},\n",
       "       {'name': 'max_pool'},\n",
       "       {'name': 'flatten'},\n",
       "       {'act': 'relu', 'name': 'fc', 'outSize': 1024},\n",
       "       {'act': 'ident', 'name': 'fc', 'outSize': 10}],\n",
       "      'name': 'hidden'},\n",
       "     {'name': 'loss'},\n",
       "     {'name': 'acc'}],\n",
       "    'train': {'batch_size': 64,\n",
       "     'epoch': 0.05,\n",
       "     'learning_rate': 0.001,\n",
       "     'saver': {'evaluate_every': 100, 'num_checkpoints': 5}}},\n",
       "   'id': '20180524200040'}],\n",
       " 'total': 13}"
      ]
     },
     "execution_count": 42,
     "metadata": {},
     "output_type": "execute_result"
    }
   ],
   "source": [
    "r = requests.get(recipe_url)\n",
    "j = json.loads(r.content)\n",
    "print(len(j[\"list\"])==j[\"total\"])\n",
    "j"
   ]
  },
  {
   "cell_type": "code",
   "execution_count": 43,
   "metadata": {},
   "outputs": [
    {
     "data": {
      "text/plain": [
       "b'{\"list\": [{\"id\": \"20180525213748\", \"body\": null}, {\"id\": \"20180526125517\", \"body\": {\"layers\": [{\"name\": \"input\", \"width\": 28, \"height\": 28, \"nClass\": 10}, {\"name\": \"hidden\", \"layers\": [{\"name\": \"reshape\", \"shape\": [-1, 28, 28, 1]}, {\"name\": \"conv2d\", \"outSize\": 32, \"act\": \"relu\"}, {\"name\": \"max_pool\"}, {\"name\": \"conv2d\", \"outSize\": 64, \"act\": \"relu\"}, {\"name\": \"max_pool\"}, {\"name\": \"flatten\"}, {\"name\": \"fc\", \"outSize\": 1024, \"act\": \"relu\"}, {\"name\": \"fc\", \"outSize\": 10, \"act\": \"ident\"}]}, {\"name\": \"loss\"}, {\"name\": \"acc\"}], \"train\": {\"learning_rate\": 0.001, \"batch_size\": 64, \"epoch\": 0.05, \"saver\": {\"evaluate_every\": 100, \"num_checkpoints\": 5}}}}, {\"id\": \"20180526125748\", \"body\": {\"layers\": [{\"name\": \"input\", \"width\": 28, \"height\": 28, \"nClass\": 10}, {\"name\": \"hidden\", \"layers\": [{\"name\": \"reshape\", \"shape\": [-1, 28, 28, 1]}, {\"name\": \"conv2d\", \"outSize\": 32, \"act\": \"relu\"}, {\"name\": \"max_pool\"}, {\"name\": \"conv2d\", \"outSize\": 64, \"act\": \"relu\"}, {\"name\": \"max_pool\"}, {\"name\": \"flatten\"}, {\"name\": \"fc\", \"outSize\": 1024, \"act\": \"relu\"}, {\"name\": \"fc\", \"outSize\": 10, \"act\": \"ident\"}]}, {\"name\": \"loss\"}, {\"name\": \"acc\"}], \"train\": {\"learning_rate\": 0.001, \"batch_size\": 64, \"epoch\": 0.05, \"saver\": {\"evaluate_every\": 100, \"num_checkpoints\": 5}}}}, {\"id\": \"20180526124947\", \"body\": {\"layers\": [{\"name\": \"input\", \"width\": 28, \"height\": 28, \"nClass\": 10}, {\"name\": \"hidden\", \"layers\": [{\"name\": \"reshape\", \"shape\": [-1, 28, 28, 1]}, {\"name\": \"conv2d\", \"outSize\": 32, \"act\": \"relu\"}, {\"name\": \"max_pool\"}, {\"name\": \"conv2d\", \"outSize\": 64, \"act\": \"relu\"}, {\"name\": \"max_pool\"}, {\"name\": \"flatten\"}, {\"name\": \"fc\", \"outSize\": 1024, \"act\": \"relu\"}, {\"name\": \"fc\", \"outSize\": 10, \"act\": \"ident\"}]}, {\"name\": \"loss\"}, {\"name\": \"acc\"}], \"train\": {\"learning_rate\": 0.001, \"batch_size\": 64, \"epoch\": 0.05, \"saver\": {\"evaluate_every\": 100, \"num_checkpoints\": 5}}}}, {\"id\": \"20180526125803\", \"body\": {\"layers\": [{\"name\": \"input\", \"width\": 28, \"height\": 28, \"nClass\": 10}, {\"name\": \"hidden\", \"layers\": [{\"name\": \"reshape\", \"shape\": [-1, 28, 28, 1]}, {\"name\": \"conv2d\", \"outSize\": 32, \"act\": \"relu\"}, {\"name\": \"max_pool\"}, {\"name\": \"conv2d\", \"outSize\": 64, \"act\": \"relu\"}, {\"name\": \"max_pool\"}, {\"name\": \"flatten\"}, {\"name\": \"fc\", \"outSize\": 1024, \"act\": \"relu\"}, {\"name\": \"fc\", \"outSize\": 10, \"act\": \"ident\"}]}, {\"name\": \"loss\"}, {\"name\": \"acc\"}], \"train\": {\"learning_rate\": 0.001, \"batch_size\": 64, \"epoch\": 0.05, \"saver\": {\"evaluate_every\": 100, \"num_checkpoints\": 5}}}}, {\"id\": \"20180526124314\", \"body\": {\"layers\": [{\"name\": \"input\", \"width\": 28, \"height\": 28, \"nClass\": 10}, {\"name\": \"hidden\", \"layers\": [{\"name\": \"reshape\", \"shape\": [-1, 28, 28, 1]}, {\"name\": \"conv2d\", \"outSize\": 32, \"act\": \"relu\"}, {\"name\": \"max_pool\"}, {\"name\": \"conv2d\", \"outSize\": 64, \"act\": \"relu\"}, {\"name\": \"max_pool\"}, {\"name\": \"flatten\"}, {\"name\": \"fc\", \"outSize\": 1024, \"act\": \"relu\"}, {\"name\": \"fc\", \"outSize\": 10, \"act\": \"ident\"}]}, {\"name\": \"loss\"}, {\"name\": \"acc\"}], \"train\": {\"learning_rate\": 0.001, \"batch_size\": 64, \"epoch\": 0.05, \"saver\": {\"evaluate_every\": 100, \"num_checkpoints\": 5}}}}, {\"id\": \"20180525214226\", \"body\": null}, {\"id\": \"20180525213809\", \"body\": null}, {\"id\": \"20180526124959\", \"body\": {\"layers\": [{\"name\": \"input\", \"width\": 28, \"height\": 28, \"nClass\": 10}, {\"name\": \"hidden\", \"layers\": [{\"name\": \"reshape\", \"shape\": [-1, 28, 28, 1]}, {\"name\": \"conv2d\", \"outSize\": 32, \"act\": \"relu\"}, {\"name\": \"max_pool\"}, {\"name\": \"conv2d\", \"outSize\": 64, \"act\": \"relu\"}, {\"name\": \"max_pool\"}, {\"name\": \"flatten\"}, {\"name\": \"fc\", \"outSize\": 1024, \"act\": \"relu\"}, {\"name\": \"fc\", \"outSize\": 10, \"act\": \"ident\"}]}, {\"name\": \"loss\"}, {\"name\": \"acc\"}], \"train\": {\"learning_rate\": 0.001, \"batch_size\": 64, \"epoch\": 0.05, \"saver\": {\"evaluate_every\": 100, \"num_checkpoints\": 5}}}}, {\"id\": \"20180526125530\", \"body\": {\"layers\": [{\"name\": \"input\", \"width\": 28, \"height\": 28, \"nClass\": 10}, {\"name\": \"hidden\", \"layers\": [{\"name\": \"reshape\", \"shape\": [-1, 28, 28, 1]}, {\"name\": \"conv2d\", \"outSize\": 32, \"act\": \"relu\"}, {\"name\": \"max_pool\"}, {\"name\": \"conv2d\", \"outSize\": 64, \"act\": \"relu\"}, {\"name\": \"max_pool\"}, {\"name\": \"flatten\"}, {\"name\": \"fc\", \"outSize\": 1024, \"act\": \"relu\"}, {\"name\": \"fc\", \"outSize\": 10, \"act\": \"ident\"}]}, {\"name\": \"loss\"}, {\"name\": \"acc\"}], \"train\": {\"learning_rate\": 0.001, \"batch_size\": 64, \"epoch\": 0.05, \"saver\": {\"evaluate_every\": 100, \"num_checkpoints\": 5}}}}, {\"id\": \"20180526125509\", \"body\": {\"layers\": [{\"name\": \"input\", \"width\": 28, \"height\": 28, \"nClass\": 10}, {\"name\": \"hidden\", \"layers\": [{\"name\": \"reshape\", \"shape\": [-1, 28, 28, 1]}, {\"name\": \"conv2d\", \"outSize\": 32, \"act\": \"relu\"}, {\"name\": \"max_pool\"}, {\"name\": \"conv2d\", \"outSize\": 64, \"act\": \"relu\"}, {\"name\": \"max_pool\"}, {\"name\": \"flatten\"}, {\"name\": \"fc\", \"outSize\": 1024, \"act\": \"relu\"}, {\"name\": \"fc\", \"outSize\": 10, \"act\": \"ident\"}]}, {\"name\": \"loss\"}, {\"name\": \"acc\"}], \"train\": {\"learning_rate\": 0.001, \"batch_size\": 64, \"epoch\": 0.05, \"saver\": {\"evaluate_every\": 100, \"num_checkpoints\": 5}}}}, {\"id\": \"20180524200040\", \"body\": {\"layers\": [{\"name\": \"input\", \"width\": 28, \"height\": 28, \"nClass\": 10}, {\"name\": \"hidden\", \"layers\": [{\"name\": \"reshape\", \"shape\": [-1, 28, 28, 1]}, {\"name\": \"conv2d\", \"outSize\": 32, \"act\": \"relu\"}, {\"name\": \"max_pool\"}, {\"name\": \"conv2d\", \"outSize\": 64, \"act\": \"relu\"}, {\"name\": \"max_pool\"}, {\"name\": \"flatten\"}, {\"name\": \"fc\", \"outSize\": 1024, \"act\": \"relu\"}, {\"name\": \"fc\", \"outSize\": 10, \"act\": \"ident\"}]}, {\"name\": \"loss\"}, {\"name\": \"acc\"}], \"train\": {\"learning_rate\": 0.001, \"batch_size\": 64, \"epoch\": 0.05, \"saver\": {\"evaluate_every\": 100, \"num_checkpoints\": 5}}}}], \"total\": 13}'"
      ]
     },
     "execution_count": 43,
     "metadata": {},
     "output_type": "execute_result"
    }
   ],
   "source": [
    "r = requests.get(url+\"/recipes?offset=1\")\n",
    "r.content"
   ]
  },
  {
   "cell_type": "code",
   "execution_count": 44,
   "metadata": {},
   "outputs": [],
   "source": [
    "from pathlib import Path"
   ]
  },
  {
   "cell_type": "code",
   "execution_count": 45,
   "metadata": {},
   "outputs": [],
   "source": [
    "recipe  = {\n",
    "  \"layers\": [\n",
    "    {\"name\": \"input\", \"width\": 28, \"height\": 28, \"nClass\": 10},\n",
    "    {\n",
    "      \"name\": \"hidden\",\n",
    "      \"layers\":[\n",
    "        {\"name\": \"reshape\", \"shape\":[-1, 28, 28, 1]},\n",
    "        {\"name\": \"conv2d\", \"outSize\": 32, \"act\": \"relu\"}, {\"name\": \"max_pool\"},\n",
    "        {\"name\": \"conv2d\", \"outSize\": 64, \"act\": \"relu\"},\n",
    "        {\"name\": \"max_pool\"},\n",
    "        {\"name\": \"flatten\"},\n",
    "        {\"name\": \"fc\", \"outSize\": 1024, \"act\": \"relu\"},\n",
    "        {\"name\": \"fc\", \"outSize\": 10, \"act\": \"ident\"}\n",
    "      ]\n",
    "    },\n",
    "    {\"name\": \"loss\"},\n",
    "    {\"name\": \"acc\"}\n",
    "  ],\n",
    "  \"train\": {\n",
    "    \"learning_rate\": 1e-3,\n",
    "    \"batch_size\": 64,\n",
    "    \"epoch\": 0.05,\n",
    "    \"saver\": {\n",
    "      \"evaluate_every\": 100,\n",
    "      \"num_checkpoints\": 5\n",
    "    }\n",
    "  }\n",
    "}"
   ]
  },
  {
   "cell_type": "code",
   "execution_count": 71,
   "metadata": {},
   "outputs": [
    {
     "data": {
      "text/plain": [
       "{'body': {'layers': [{'height': 28,\n",
       "    'nClass': 10,\n",
       "    'name': 'input',\n",
       "    'width': 28},\n",
       "   {'layers': [{'name': 'reshape', 'shape': [-1, 28, 28, 1]},\n",
       "     {'act': 'relu', 'name': 'conv2d', 'outSize': 32},\n",
       "     {'name': 'max_pool'},\n",
       "     {'act': 'relu', 'name': 'conv2d', 'outSize': 64},\n",
       "     {'name': 'max_pool'},\n",
       "     {'name': 'flatten'},\n",
       "     {'act': 'relu', 'name': 'fc', 'outSize': 1024},\n",
       "     {'act': 'ident', 'name': 'fc', 'outSize': 10}],\n",
       "    'name': 'hidden'},\n",
       "   {'name': 'loss'},\n",
       "   {'name': 'acc'}],\n",
       "  'train': {'batch_size': 64,\n",
       "   'epoch': 0.05,\n",
       "   'learning_rate': 1e-05,\n",
       "   'saver': {'evaluate_every': 100, 'num_checkpoints': 5}}},\n",
       " 'id': '20180526162843'}"
      ]
     },
     "execution_count": 71,
     "metadata": {},
     "output_type": "execute_result"
    }
   ],
   "source": [
    "headers = {'Content-type': 'application/json', 'Accept': 'text/plain'}\n",
    "r = requests.post(recipe_url, data=json.dumps(recipe), headers=headers)\n",
    "r = r.json()\n",
    "r"
   ]
  },
  {
   "cell_type": "code",
   "execution_count": null,
   "metadata": {},
   "outputs": [],
   "source": []
  },
  {
   "cell_type": "code",
   "execution_count": 72,
   "metadata": {},
   "outputs": [
    {
     "data": {
      "text/plain": [
       "{'body': {'layers': [{'height': 28,\n",
       "    'nClass': 10,\n",
       "    'name': 'input',\n",
       "    'width': 28},\n",
       "   {'layers': [{'name': 'reshape', 'shape': [-1, 28, 28, 1]},\n",
       "     {'act': 'relu', 'name': 'conv2d', 'outSize': 32},\n",
       "     {'name': 'max_pool'},\n",
       "     {'act': 'relu', 'name': 'conv2d', 'outSize': 64},\n",
       "     {'name': 'max_pool'},\n",
       "     {'name': 'flatten'},\n",
       "     {'act': 'relu', 'name': 'fc', 'outSize': 1024},\n",
       "     {'act': 'ident', 'name': 'fc', 'outSize': 10}],\n",
       "    'name': 'hidden'},\n",
       "   {'name': 'loss'},\n",
       "   {'name': 'acc'}],\n",
       "  'train': {'batch_size': 64,\n",
       "   'epoch': 0.05,\n",
       "   'learning_rate': 1e-05,\n",
       "   'saver': {'evaluate_every': 100, 'num_checkpoints': 5}}},\n",
       " 'id': '20180526162843'}"
      ]
     },
     "execution_count": 72,
     "metadata": {},
     "output_type": "execute_result"
    }
   ],
   "source": [
    "r = requests.get(url+\"/recipes/\"+r[\"id\"])\n",
    "r = r.json()\n",
    "r"
   ]
  },
  {
   "cell_type": "code",
   "execution_count": 73,
   "metadata": {},
   "outputs": [
    {
     "data": {
      "text/plain": [
       "{'body': {'layers': [{'height': 28,\n",
       "    'nClass': 10,\n",
       "    'name': 'input',\n",
       "    'width': 28},\n",
       "   {'layers': [{'name': 'reshape', 'shape': [-1, 28, 28, 1]},\n",
       "     {'act': 'relu', 'name': 'conv2d', 'outSize': 32},\n",
       "     {'name': 'max_pool'},\n",
       "     {'act': 'relu', 'name': 'conv2d', 'outSize': 64},\n",
       "     {'name': 'max_pool'},\n",
       "     {'name': 'flatten'},\n",
       "     {'act': 'relu', 'name': 'fc', 'outSize': 1024},\n",
       "     {'act': 'ident', 'name': 'fc', 'outSize': 10}],\n",
       "    'name': 'hidden'},\n",
       "   {'name': 'loss'},\n",
       "   {'name': 'acc'}],\n",
       "  'train': {'batch_size': 64,\n",
       "   'epoch': 0.05,\n",
       "   'learning_rate': 1e-05,\n",
       "   'saver': {'evaluate_every': 100, 'num_checkpoints': 5}}},\n",
       " 'id': '20180526162843'}"
      ]
     },
     "execution_count": 73,
     "metadata": {},
     "output_type": "execute_result"
    }
   ],
   "source": [
    "recipe  = {\n",
    "  \"layers\": [\n",
    "    {\"name\": \"input\", \"width\": 28, \"height\": 28, \"nClass\": 10},\n",
    "    {\n",
    "      \"name\": \"hidden\",\n",
    "      \"layers\":[\n",
    "        {\"name\": \"reshape\", \"shape\":[-1, 28, 28, 1]},\n",
    "        {\"name\": \"conv2d\", \"outSize\": 32, \"act\": \"relu\"}, {\"name\": \"max_pool\"},\n",
    "        {\"name\": \"conv2d\", \"outSize\": 64, \"act\": \"relu\"},\n",
    "        {\"name\": \"max_pool\"},\n",
    "        {\"name\": \"flatten\"},\n",
    "        {\"name\": \"fc\", \"outSize\": 1024, \"act\": \"relu\"},\n",
    "        {\"name\": \"fc\", \"outSize\": 10, \"act\": \"ident\"}\n",
    "      ]\n",
    "    },\n",
    "    {\"name\": \"loss\"},\n",
    "    {\"name\": \"acc\"}\n",
    "  ],\n",
    "  \"train\": {\n",
    "    \"learning_rate\": 1e-5,\n",
    "    \"batch_size\": 64,\n",
    "    \"epoch\": 0.05,\n",
    "    \"saver\": {\n",
    "      \"evaluate_every\": 100,\n",
    "      \"num_checkpoints\": 5\n",
    "    }\n",
    "  }\n",
    "}\n",
    "headers = {'Content-type': 'application/json', 'Accept': 'text/plain'}\n",
    "r = requests.put(recipe_url+\"/\"+r[\"id\"], data=json.dumps(recipe), headers=headers)\n",
    "r = r.json()\n",
    "r"
   ]
  },
  {
   "cell_type": "code",
   "execution_count": 74,
   "metadata": {},
   "outputs": [
    {
     "data": {
      "text/plain": [
       "<Response [200]>"
      ]
     },
     "execution_count": 74,
     "metadata": {},
     "output_type": "execute_result"
    }
   ],
   "source": [
    "r = requests.delete(recipe_url+\"/\"+r[\"id\"])\n",
    "r"
   ]
  },
  {
   "cell_type": "code",
   "execution_count": null,
   "metadata": {},
   "outputs": [],
   "source": [
    "from filemanager import save_recipe"
   ]
  },
  {
   "cell_type": "code",
   "execution_count": null,
   "metadata": {},
   "outputs": [],
   "source": [
    "recipe_id = save_recipe(recipe)\n",
    "recipe_id"
   ]
  },
  {
   "cell_type": "code",
   "execution_count": null,
   "metadata": {},
   "outputs": [],
   "source": [
    "model = CNN(recipe_id)"
   ]
  },
  {
   "cell_type": "code",
   "execution_count": null,
   "metadata": {},
   "outputs": [],
   "source": [
    "model.train(\"data/mnist\")"
   ]
  },
  {
   "cell_type": "code",
   "execution_count": null,
   "metadata": {},
   "outputs": [],
   "source": [
    "model.ima.test_images[0]"
   ]
  },
  {
   "cell_type": "code",
   "execution_count": null,
   "metadata": {},
   "outputs": [],
   "source": [
    "model.ima.train_images[0]"
   ]
  },
  {
   "cell_type": "code",
   "execution_count": null,
   "metadata": {},
   "outputs": [],
   "source": [
    "model.ima.imread(str(model.ima.test_images[0])).shape"
   ]
  },
  {
   "cell_type": "code",
   "execution_count": null,
   "metadata": {},
   "outputs": [],
   "source": [
    "config = model.recipe[\"train\"]\n",
    "config"
   ]
  },
  {
   "cell_type": "code",
   "execution_count": null,
   "metadata": {
    "scrolled": false
   },
   "outputs": [],
   "source": [
    " if _ in range(epoch * self.ima.n_train):\n",
    "    labels, images = self.ima.next_batch(\"train\", batch_size"
   ]
  },
  {
   "cell_type": "code",
   "execution_count": null,
   "metadata": {},
   "outputs": [],
   "source": [
    "import numpy as np\n",
    "print(np.identity(10)[0])\n",
    "print(np.identity(10)[9])"
   ]
  },
  {
   "cell_type": "code",
   "execution_count": null,
   "metadata": {},
   "outputs": [],
   "source": []
  }
 ],
 "metadata": {
  "kernelspec": {
   "display_name": "Environment (conda_py3.6)",
   "language": "python",
   "name": "conda_py3.6"
  },
  "language_info": {
   "codemirror_mode": {
    "name": "ipython",
    "version": 3
   },
   "file_extension": ".py",
   "mimetype": "text/x-python",
   "name": "python",
   "nbconvert_exporter": "python",
   "pygments_lexer": "ipython3",
   "version": "3.6.4"
  }
 },
 "nbformat": 4,
 "nbformat_minor": 2
}
