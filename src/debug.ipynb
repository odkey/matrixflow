{
 "cells": [
  {
   "cell_type": "code",
   "execution_count": 27,
   "metadata": {},
   "outputs": [
    {
     "name": "stdout",
     "output_type": "stream",
     "text": [
      "The autoreload extension is already loaded. To reload it, use:\n",
      "  %reload_ext autoreload\n"
     ]
    }
   ],
   "source": [
    "%load_ext autoreload\n",
    "%autoreload 2"
   ]
  },
  {
   "cell_type": "code",
   "execution_count": 45,
   "metadata": {},
   "outputs": [],
   "source": [
    "import json\n",
    "import requests\n",
    "from models.cnn.cnn import CNN\n",
    "from pathlib import Path"
   ]
  },
  {
   "cell_type": "code",
   "execution_count": 3,
   "metadata": {},
   "outputs": [],
   "source": [
    "url = \"http://localhost:8081\"\n",
    "recipe_url = url + \"/recipes\""
   ]
  },
  {
   "cell_type": "code",
   "execution_count": 4,
   "metadata": {},
   "outputs": [
    {
     "data": {
      "text/plain": [
       "200"
      ]
     },
     "execution_count": 4,
     "metadata": {},
     "output_type": "execute_result"
    }
   ],
   "source": [
    "r = requests.get(url)\n",
    "r.status_code"
   ]
  },
  {
   "cell_type": "code",
   "execution_count": 5,
   "metadata": {},
   "outputs": [
    {
     "name": "stdout",
     "output_type": "stream",
     "text": [
      "True\n"
     ]
    },
    {
     "data": {
      "text/plain": [
       "{'list': [{'body': {'layers': [{'height': 28,\n",
       "      'nClass': 10,\n",
       "      'name': 'input',\n",
       "      'width': 28},\n",
       "     {'layers': [{'name': 'reshape', 'shape': [-1, 28, 28, 1]},\n",
       "       {'act': 'relu', 'name': 'conv2d', 'outSize': 32},\n",
       "       {'name': 'max_pool'},\n",
       "       {'act': 'relu', 'name': 'conv2d', 'outSize': 64},\n",
       "       {'name': 'max_pool'},\n",
       "       {'name': 'flatten'},\n",
       "       {'act': 'relu', 'name': 'fc', 'outSize': 1024},\n",
       "       {'act': 'ident', 'name': 'fc', 'outSize': 10}],\n",
       "      'name': 'hidden'},\n",
       "     {'name': 'loss'},\n",
       "     {'name': 'acc'}],\n",
       "    'train': {'batch_size': 64,\n",
       "     'epoch': 0.05,\n",
       "     'learning_rate': 0.001,\n",
       "     'saver': {'evaluate_every': 100, 'num_checkpoints': 5}}},\n",
       "   'create_time': '2018-05-26 12:57:48',\n",
       "   'id': '20180526125748',\n",
       "   'update_time': '2018-05-26 12:57:48'},\n",
       "  {'body': {'layers': [{'height': 28,\n",
       "      'nClass': 10,\n",
       "      'name': 'input',\n",
       "      'width': 28},\n",
       "     {'layers': [{'name': 'reshape', 'shape': [-1, 28, 28, 1]},\n",
       "       {'act': 'relu', 'name': 'conv2d', 'outSize': 32},\n",
       "       {'name': 'max_pool'},\n",
       "       {'act': 'relu', 'name': 'conv2d', 'outSize': 64},\n",
       "       {'name': 'max_pool'},\n",
       "       {'name': 'flatten'},\n",
       "       {'act': 'relu', 'name': 'fc', 'outSize': 1024},\n",
       "       {'act': 'ident', 'name': 'fc', 'outSize': 10}],\n",
       "      'name': 'hidden'},\n",
       "     {'name': 'loss'},\n",
       "     {'name': 'acc'}],\n",
       "    'train': {'batch_size': 64,\n",
       "     'epoch': 0.05,\n",
       "     'learning_rate': 0.001,\n",
       "     'saver': {'evaluate_every': 100, 'num_checkpoints': 5}}},\n",
       "   'create_time': '2018-05-26 12:49:47',\n",
       "   'id': '20180526124947',\n",
       "   'update_time': '2018-05-26 12:49:47'},\n",
       "  {'body': {'layers': [{'height': 28,\n",
       "      'nClass': 10,\n",
       "      'name': 'input',\n",
       "      'width': 28},\n",
       "     {'layers': [{'name': 'reshape', 'shape': [-1, 28, 28, 1]},\n",
       "       {'act': 'relu', 'name': 'conv2d', 'outSize': 32},\n",
       "       {'name': 'max_pool'},\n",
       "       {'act': 'relu', 'name': 'conv2d', 'outSize': 64},\n",
       "       {'name': 'max_pool'},\n",
       "       {'name': 'flatten'},\n",
       "       {'act': 'relu', 'name': 'fc', 'outSize': 1024},\n",
       "       {'act': 'ident', 'name': 'fc', 'outSize': 10}],\n",
       "      'name': 'hidden'},\n",
       "     {'name': 'loss'},\n",
       "     {'name': 'acc'}],\n",
       "    'train': {'batch_size': 64,\n",
       "     'epoch': 0.05,\n",
       "     'learning_rate': 0.001,\n",
       "     'saver': {'evaluate_every': 100, 'num_checkpoints': 5}}},\n",
       "   'create_time': '2018-05-26 12:58:03',\n",
       "   'id': '20180526125803',\n",
       "   'update_time': '2018-05-26 12:58:03'},\n",
       "  {'body': {'layers': [{'height': 28,\n",
       "      'nClass': 10,\n",
       "      'name': 'input',\n",
       "      'width': 28},\n",
       "     {'layers': [{'name': 'reshape', 'shape': [-1, 28, 28, 1]},\n",
       "       {'act': 'relu', 'name': 'conv2d', 'outSize': 32},\n",
       "       {'name': 'max_pool'},\n",
       "       {'act': 'relu', 'name': 'conv2d', 'outSize': 64},\n",
       "       {'name': 'max_pool'},\n",
       "       {'name': 'flatten'},\n",
       "       {'act': 'relu', 'name': 'fc', 'outSize': 1024},\n",
       "       {'act': 'ident', 'name': 'fc', 'outSize': 10}],\n",
       "      'name': 'hidden'},\n",
       "     {'name': 'loss'},\n",
       "     {'name': 'acc'}],\n",
       "    'train': {'batch_size': 64,\n",
       "     'epoch': 0.05,\n",
       "     'learning_rate': 1e-05,\n",
       "     'saver': {'evaluate_every': 100, 'num_checkpoints': 5}}},\n",
       "   'create_time': '2018-05-26 17:06:59',\n",
       "   'id': '20180526170659',\n",
       "   'update_time': '2018-05-26 17:06:59'},\n",
       "  {'body': {'layers': [{'height': 28,\n",
       "      'nClass': 10,\n",
       "      'name': 'input',\n",
       "      'width': 28},\n",
       "     {'layers': [{'name': 'reshape', 'shape': [-1, 28, 28, 1]},\n",
       "       {'act': 'relu', 'name': 'conv2d', 'outSize': 32},\n",
       "       {'name': 'max_pool'},\n",
       "       {'act': 'relu', 'name': 'conv2d', 'outSize': 64},\n",
       "       {'name': 'max_pool'},\n",
       "       {'name': 'flatten'},\n",
       "       {'act': 'relu', 'name': 'fc', 'outSize': 1024},\n",
       "       {'act': 'ident', 'name': 'fc', 'outSize': 10}],\n",
       "      'name': 'hidden'},\n",
       "     {'name': 'loss'},\n",
       "     {'name': 'acc'}],\n",
       "    'train': {'batch_size': 64,\n",
       "     'epoch': 0.05,\n",
       "     'learning_rate': 0.001,\n",
       "     'saver': {'evaluate_every': 100, 'num_checkpoints': 5}}},\n",
       "   'create_time': '2018-05-26 12:43:14',\n",
       "   'id': '20180526124314',\n",
       "   'update_time': '2018-05-26 12:43:14'},\n",
       "  {'body': {'layers': [{'height': 28,\n",
       "      'nClass': 10,\n",
       "      'name': 'input',\n",
       "      'width': 28},\n",
       "     {'layers': [{'name': 'reshape', 'shape': [-1, 28, 28, 1]},\n",
       "       {'act': 'relu', 'name': 'conv2d', 'outSize': 32},\n",
       "       {'name': 'max_pool'},\n",
       "       {'act': 'relu', 'name': 'conv2d', 'outSize': 64},\n",
       "       {'name': 'max_pool'},\n",
       "       {'name': 'flatten'},\n",
       "       {'act': 'relu', 'name': 'fc', 'outSize': 1024},\n",
       "       {'act': 'ident', 'name': 'fc', 'outSize': 10}],\n",
       "      'name': 'hidden'},\n",
       "     {'name': 'loss'},\n",
       "     {'name': 'acc'}],\n",
       "    'train': {'batch_size': 64,\n",
       "     'epoch': 0.05,\n",
       "     'learning_rate': 1e-05,\n",
       "     'saver': {'evaluate_every': 10, 'num_checkpoints': 5}}},\n",
       "   'create_time': '2018-05-27 01:12:03',\n",
       "   'id': '20180526171111',\n",
       "   'update_time': '2018-05-27 01:12:03'},\n",
       "  {'body': {'layers': [{'height': 28,\n",
       "      'nClass': 10,\n",
       "      'name': 'input',\n",
       "      'width': 28},\n",
       "     {'layers': [{'name': 'reshape', 'shape': [-1, 28, 28, 1]},\n",
       "       {'act': 'relu', 'name': 'conv2d', 'outSize': 32},\n",
       "       {'name': 'max_pool'},\n",
       "       {'act': 'relu', 'name': 'conv2d', 'outSize': 64},\n",
       "       {'name': 'max_pool'},\n",
       "       {'name': 'flatten'},\n",
       "       {'act': 'relu', 'name': 'fc', 'outSize': 1024},\n",
       "       {'act': 'ident', 'name': 'fc', 'outSize': 10}],\n",
       "      'name': 'hidden'},\n",
       "     {'name': 'loss'},\n",
       "     {'name': 'acc'}],\n",
       "    'train': {'batch_size': 64,\n",
       "     'epoch': 0.05,\n",
       "     'learning_rate': 0.001,\n",
       "     'saver': {'evaluate_every': 100, 'num_checkpoints': 5}}},\n",
       "   'create_time': '2018-05-26 16:11:28',\n",
       "   'id': '20180526161128',\n",
       "   'update_time': '2018-05-26 16:11:28'},\n",
       "  {'body': {'edges': [{'sourceId': 0, 'targetId': 1},\n",
       "     {'sourceId': 1, 'targetId': 2},\n",
       "     {'sourceId': 2, 'targetId': 3},\n",
       "     {'sourceId': 3, 'targetId': 4},\n",
       "     {'sourceId': 4, 'targetId': 5},\n",
       "     {'sourceId': 5, 'targetId': 6},\n",
       "     {'sourceId': 6, 'targetId': 7},\n",
       "     {'sourceId': 7, 'targetId': 8},\n",
       "     {'sourceId': 7, 'targetId': 9},\n",
       "     {'sourceId': 10, 'targetId': 9}],\n",
       "    'layers': [{'height': 28,\n",
       "      'id': 0,\n",
       "      'nClass': 10,\n",
       "      'name': 'inputData',\n",
       "      'width': 28},\n",
       "     {'height': 28,\n",
       "      'id': 10,\n",
       "      'nClass': 10,\n",
       "      'name': 'inputLabels',\n",
       "      'width': 28},\n",
       "     {'id': 1, 'name': 'reshape', 'shape': [-1, 28, 28, 1]},\n",
       "     {'act': 'relu', 'id': 2, 'name': 'conv2d', 'outSize': 32},\n",
       "     {'name': 'max_pool'},\n",
       "     {'act': 'relu', 'id': 3, 'name': 'conv2d', 'outSize': 64},\n",
       "     {'id': 4, 'name': 'max_pool'},\n",
       "     {'id': 5, 'name': 'flatten'},\n",
       "     {'act': 'relu', 'id': 6, 'name': 'fc', 'outSize': 1024},\n",
       "     {'act': 'ident', 'id': 7, 'name': 'fc', 'outSize': 10},\n",
       "     {'id': 8, 'name': 'loss'},\n",
       "     {'id': 9, 'name': 'acc'}],\n",
       "    'train': {'batch_size': 64,\n",
       "     'epoch': 0.05,\n",
       "     'learning_rate': 0.001,\n",
       "     'saver': {'evaluate_every': 100, 'num_checkpoints': 5}}},\n",
       "   'create_time': '2018-06-15 19:24:46',\n",
       "   'id': '20180615192446',\n",
       "   'update_time': '2018-06-15 19:24:46'},\n",
       "  {'body': None,\n",
       "   'create_time': '2018-05-25 21:42:26',\n",
       "   'id': '20180525214226',\n",
       "   'update_time': '2018-05-25 21:42:26'},\n",
       "  {'body': None,\n",
       "   'create_time': '2018-05-25 21:38:09',\n",
       "   'id': '20180525213809',\n",
       "   'update_time': '2018-05-25 21:38:09'},\n",
       "  {'body': {'edges': [{'sourceId': 0, 'targetId': 1},\n",
       "     {'sourceId': 1, 'targetId': 2},\n",
       "     {'sourceId': 2, 'targetId': 3},\n",
       "     {'sourceId': 3, 'targetId': 4},\n",
       "     {'sourceId': 4, 'targetId': 5},\n",
       "     {'sourceId': 5, 'targetId': 6},\n",
       "     {'sourceId': 6, 'targetId': 7},\n",
       "     {'sourceId': 7, 'targetId': 8},\n",
       "     {'sourceId': 7, 'targetId': 9},\n",
       "     {'sourceId': 0, 'targetId': 9}],\n",
       "    'layers': [{'height': 28,\n",
       "      'id': 0,\n",
       "      'nClass': 10,\n",
       "      'name': 'input',\n",
       "      'width': 28},\n",
       "     {'id': 1, 'name': 'reshape', 'shape': [-1, 28, 28, 1]},\n",
       "     {'act': 'relu', 'id': 2, 'name': 'conv2d', 'outSize': 32},\n",
       "     {'name': 'max_pool'},\n",
       "     {'act': 'relu', 'id': 3, 'name': 'conv2d', 'outSize': 64},\n",
       "     {'id': 4, 'name': 'max_pool'},\n",
       "     {'id': 5, 'name': 'flatten'},\n",
       "     {'act': 'relu', 'id': 6, 'name': 'fc', 'outSize': 1024},\n",
       "     {'act': 'ident', 'id': 7, 'name': 'fc', 'outSize': 10},\n",
       "     {'id': 8, 'name': 'loss'},\n",
       "     {'id': 9, 'name': 'acc'}],\n",
       "    'train': {'batch_size': 64,\n",
       "     'epoch': 0.05,\n",
       "     'learning_rate': 0.001,\n",
       "     'saver': {'evaluate_every': 100, 'num_checkpoints': 5}}},\n",
       "   'create_time': '2018-06-15 18:37:54',\n",
       "   'id': '20180615183754',\n",
       "   'update_time': '2018-06-15 18:37:54'},\n",
       "  {'body': {'layers': [{'height': 28,\n",
       "      'nClass': 10,\n",
       "      'name': 'input',\n",
       "      'width': 28},\n",
       "     {'layers': [{'name': 'reshape', 'shape': [-1, 28, 28, 1]},\n",
       "       {'act': 'relu', 'name': 'conv2d', 'outSize': 32},\n",
       "       {'name': 'max_pool'},\n",
       "       {'act': 'relu', 'name': 'conv2d', 'outSize': 64},\n",
       "       {'name': 'max_pool'},\n",
       "       {'name': 'flatten'},\n",
       "       {'act': 'relu', 'name': 'fc', 'outSize': 1024},\n",
       "       {'act': 'ident', 'name': 'fc', 'outSize': 10}],\n",
       "      'name': 'hidden'},\n",
       "     {'name': 'loss'},\n",
       "     {'name': 'acc'}],\n",
       "    'train': {'batch_size': 64,\n",
       "     'epoch': 0.05,\n",
       "     'learning_rate': 0.001,\n",
       "     'saver': {'evaluate_every': 100, 'num_checkpoints': 5}}},\n",
       "   'create_time': '2018-05-26 12:49:59',\n",
       "   'id': '20180526124959',\n",
       "   'update_time': '2018-05-26 12:49:59'},\n",
       "  {'body': {'layers': [{'height': 28,\n",
       "      'nClass': 10,\n",
       "      'name': 'input',\n",
       "      'width': 28},\n",
       "     {'layers': [{'name': 'reshape', 'shape': [-1, 28, 28, 1]},\n",
       "       {'act': 'relu', 'name': 'conv2d', 'outSize': 32},\n",
       "       {'name': 'max_pool'},\n",
       "       {'act': 'relu', 'name': 'conv2d', 'outSize': 64},\n",
       "       {'name': 'max_pool'},\n",
       "       {'name': 'flatten'},\n",
       "       {'act': 'relu', 'name': 'fc', 'outSize': 1024},\n",
       "       {'act': 'ident', 'name': 'fc', 'outSize': 10}],\n",
       "      'name': 'hidden'},\n",
       "     {'name': 'loss'},\n",
       "     {'name': 'acc'}],\n",
       "    'train': {'batch_size': 64,\n",
       "     'epoch': 0.05,\n",
       "     'learning_rate': 0.001,\n",
       "     'saver': {'evaluate_every': 100, 'num_checkpoints': 5}}},\n",
       "   'create_time': '2018-05-26 12:55:30',\n",
       "   'id': '20180526125530',\n",
       "   'update_time': '2018-05-26 12:55:30'},\n",
       "  {'body': {'layers': [{'height': 28,\n",
       "      'nClass': 10,\n",
       "      'name': 'input',\n",
       "      'width': 28},\n",
       "     {'layers': [{'name': 'reshape', 'shape': [-1, 28, 28, 1]},\n",
       "       {'act': 'relu', 'name': 'conv2d', 'outSize': 32},\n",
       "       {'name': 'max_pool'},\n",
       "       {'act': 'relu', 'name': 'conv2d', 'outSize': 64},\n",
       "       {'name': 'max_pool'},\n",
       "       {'name': 'flatten'},\n",
       "       {'act': 'relu', 'name': 'fc', 'outSize': 1024},\n",
       "       {'act': 'ident', 'name': 'fc', 'outSize': 10}],\n",
       "      'name': 'hidden'},\n",
       "     {'name': 'loss'},\n",
       "     {'name': 'acc'}],\n",
       "    'train': {'batch_size': 64,\n",
       "     'epoch': 0.05,\n",
       "     'learning_rate': 0.001,\n",
       "     'saver': {'evaluate_every': 100, 'num_checkpoints': 5}}},\n",
       "   'create_time': '2018-05-26 12:55:09',\n",
       "   'id': '20180526125509',\n",
       "   'update_time': '2018-05-26 12:55:09'},\n",
       "  {'body': {'layers': [{'height': 28,\n",
       "      'nClass': 10,\n",
       "      'name': 'input',\n",
       "      'width': 28},\n",
       "     {'layers': [{'name': 'reshape', 'shape': [-1, 28, 28, 1]},\n",
       "       {'act': 'relu', 'name': 'conv2d', 'outSize': 32},\n",
       "       {'name': 'max_pool'},\n",
       "       {'act': 'relu', 'name': 'conv2d', 'outSize': 64},\n",
       "       {'name': 'max_pool'},\n",
       "       {'name': 'flatten'},\n",
       "       {'act': 'relu', 'name': 'fc', 'outSize': 1024},\n",
       "       {'act': 'ident', 'name': 'fc', 'outSize': 10}],\n",
       "      'name': 'hidden'},\n",
       "     {'name': 'loss'},\n",
       "     {'name': 'acc'}],\n",
       "    'train': {'batch_size': 64,\n",
       "     'epoch': 0.05,\n",
       "     'learning_rate': 0.001,\n",
       "     'saver': {'evaluate_every': 100, 'num_checkpoints': 5}}},\n",
       "   'create_time': '2018-06-15 18:39:05',\n",
       "   'id': '20180524200040',\n",
       "   'update_time': '2018-06-15 18:39:05'},\n",
       "  {'body': {'edges': [{'sourceId': 0, 'targetId': 1},\n",
       "     {'sourceId': 1, 'targetId': 2},\n",
       "     {'sourceId': 2, 'targetId': 3},\n",
       "     {'sourceId': 3, 'targetId': 4},\n",
       "     {'sourceId': 4, 'targetId': 5},\n",
       "     {'sourceId': 5, 'targetId': 6},\n",
       "     {'sourceId': 6, 'targetId': 7},\n",
       "     {'sourceId': 7, 'targetId': 8},\n",
       "     {'sourceId': 7, 'targetId': 9},\n",
       "     {'sourceId': 10, 'targetId': 9}],\n",
       "    'layers': [{'height': 28,\n",
       "      'id': 0,\n",
       "      'nClass': 10,\n",
       "      'name': 'inputData',\n",
       "      'width': 28},\n",
       "     {'height': 28,\n",
       "      'id': 10,\n",
       "      'nClass': 10,\n",
       "      'name': 'inputLabels',\n",
       "      'width': 28},\n",
       "     {'id': 1, 'name': 'reshape', 'shape': [-1, 28, 28, 1]},\n",
       "     {'act': 'relu', 'id': 2, 'name': 'conv2d', 'outSize': 32},\n",
       "     {'name': 'max_pool'},\n",
       "     {'act': 'relu', 'id': 3, 'name': 'conv2d', 'outSize': 64},\n",
       "     {'id': 4, 'name': 'max_pool'},\n",
       "     {'id': 5, 'name': 'flatten'},\n",
       "     {'act': 'relu', 'id': 6, 'name': 'fc', 'outSize': 1024},\n",
       "     {'act': 'ident', 'id': 7, 'name': 'fc', 'outSize': 10},\n",
       "     {'id': 8, 'name': 'loss'},\n",
       "     {'id': 9, 'name': 'acc'}],\n",
       "    'train': {'batch_size': 64,\n",
       "     'epoch': 0.05,\n",
       "     'learning_rate': 0.001,\n",
       "     'saver': {'evaluate_every': 100, 'num_checkpoints': 5}}},\n",
       "   'create_time': '2018-06-15 18:51:01',\n",
       "   'id': '20180615185101',\n",
       "   'update_time': '2018-06-15 18:51:01'},\n",
       "  {'body': {'edges': [{'sourceId': 0, 'targetId': 1},\n",
       "     {'sourceId': 1, 'targetId': 2},\n",
       "     {'sourceId': 2, 'targetId': 3},\n",
       "     {'sourceId': 3, 'targetId': 4},\n",
       "     {'sourceId': 4, 'targetId': 5},\n",
       "     {'sourceId': 5, 'targetId': 6},\n",
       "     {'sourceId': 6, 'targetId': 7},\n",
       "     {'sourceId': 7, 'targetId': 8},\n",
       "     {'sourceId': 7, 'targetId': 9},\n",
       "     {'sourceId': 10, 'targetId': 9}],\n",
       "    'layers': [{'height': 28,\n",
       "      'id': 0,\n",
       "      'nClass': 10,\n",
       "      'name': 'inputData',\n",
       "      'width': 28},\n",
       "     {'height': 28,\n",
       "      'id': 10,\n",
       "      'nClass': 10,\n",
       "      'name': 'inputLabels',\n",
       "      'width': 28},\n",
       "     {'id': 1, 'name': 'reshape', 'shape': [-1, 28, 28, 1]},\n",
       "     {'act': 'relu', 'id': 2, 'name': 'conv2d', 'outSize': 32},\n",
       "     {'name': 'max_pool'},\n",
       "     {'act': 'relu', 'id': 3, 'name': 'conv2d', 'outSize': 64},\n",
       "     {'id': 4, 'name': 'max_pool'},\n",
       "     {'id': 5, 'name': 'flatten'},\n",
       "     {'act': 'relu', 'id': 6, 'name': 'fc', 'outSize': 1024},\n",
       "     {'act': 'ident', 'id': 7, 'name': 'fc', 'outSize': 10},\n",
       "     {'id': 8, 'name': 'loss'},\n",
       "     {'id': 9, 'name': 'acc'}],\n",
       "    'train': {'batch_size': 64,\n",
       "     'epoch': 0.05,\n",
       "     'learning_rate': 0.001,\n",
       "     'saver': {'evaluate_every': 100, 'num_checkpoints': 5}}},\n",
       "   'create_time': '2018-06-15 18:49:05',\n",
       "   'id': '20180615184905',\n",
       "   'update_time': '2018-06-15 18:49:05'},\n",
       "  {'body': {'layers': [{'height': 28,\n",
       "      'nClass': 10,\n",
       "      'name': 'input',\n",
       "      'width': 28},\n",
       "     {'layers': [{'name': 'reshape', 'shape': [-1, 28, 28, 1]},\n",
       "       {'act': 'relu', 'name': 'conv2d', 'outSize': 32},\n",
       "       {'name': 'max_pool'},\n",
       "       {'act': 'relu', 'name': 'conv2d', 'outSize': 64},\n",
       "       {'name': 'max_pool'},\n",
       "       {'name': 'flatten'},\n",
       "       {'act': 'relu', 'name': 'fc', 'outSize': 1024},\n",
       "       {'act': 'ident', 'name': 'fc', 'outSize': 10}],\n",
       "      'name': 'hidden'},\n",
       "     {'name': 'loss'},\n",
       "     {'name': 'acc'}],\n",
       "    'train': {'batch_size': 64,\n",
       "     'epoch': 0.05,\n",
       "     'learning_rate': 1e-05,\n",
       "     'saver': {'evaluate_every': 100, 'num_checkpoints': 5}}},\n",
       "   'create_time': '2018-05-26 17:08:38',\n",
       "   'id': '20180526170838',\n",
       "   'update_time': '2018-05-26 17:08:38'}],\n",
       " 'total': 18}"
      ]
     },
     "execution_count": 5,
     "metadata": {},
     "output_type": "execute_result"
    }
   ],
   "source": [
    "r = requests.get(recipe_url)\n",
    "j = json.loads(r.content)\n",
    "print(len(j[\"list\"])==j[\"total\"])\n",
    "j"
   ]
  },
  {
   "cell_type": "code",
   "execution_count": 6,
   "metadata": {},
   "outputs": [
    {
     "data": {
      "text/plain": [
       "b'{\"list\": [{\"id\": \"20180526124947\", \"body\": {\"layers\": [{\"name\": \"input\", \"width\": 28, \"height\": 28, \"nClass\": 10}, {\"name\": \"hidden\", \"layers\": [{\"name\": \"reshape\", \"shape\": [-1, 28, 28, 1]}, {\"name\": \"conv2d\", \"outSize\": 32, \"act\": \"relu\"}, {\"name\": \"max_pool\"}, {\"name\": \"conv2d\", \"outSize\": 64, \"act\": \"relu\"}, {\"name\": \"max_pool\"}, {\"name\": \"flatten\"}, {\"name\": \"fc\", \"outSize\": 1024, \"act\": \"relu\"}, {\"name\": \"fc\", \"outSize\": 10, \"act\": \"ident\"}]}, {\"name\": \"loss\"}, {\"name\": \"acc\"}], \"train\": {\"learning_rate\": 0.001, \"batch_size\": 64, \"epoch\": 0.05, \"saver\": {\"evaluate_every\": 100, \"num_checkpoints\": 5}}}, \"update_time\": \"2018-05-26 12:49:47\", \"create_time\": \"2018-05-26 12:49:47\"}, {\"id\": \"20180526125803\", \"body\": {\"layers\": [{\"name\": \"input\", \"width\": 28, \"height\": 28, \"nClass\": 10}, {\"name\": \"hidden\", \"layers\": [{\"name\": \"reshape\", \"shape\": [-1, 28, 28, 1]}, {\"name\": \"conv2d\", \"outSize\": 32, \"act\": \"relu\"}, {\"name\": \"max_pool\"}, {\"name\": \"conv2d\", \"outSize\": 64, \"act\": \"relu\"}, {\"name\": \"max_pool\"}, {\"name\": \"flatten\"}, {\"name\": \"fc\", \"outSize\": 1024, \"act\": \"relu\"}, {\"name\": \"fc\", \"outSize\": 10, \"act\": \"ident\"}]}, {\"name\": \"loss\"}, {\"name\": \"acc\"}], \"train\": {\"learning_rate\": 0.001, \"batch_size\": 64, \"epoch\": 0.05, \"saver\": {\"evaluate_every\": 100, \"num_checkpoints\": 5}}}, \"update_time\": \"2018-05-26 12:58:03\", \"create_time\": \"2018-05-26 12:58:03\"}, {\"id\": \"20180526170659\", \"body\": {\"layers\": [{\"name\": \"input\", \"width\": 28, \"height\": 28, \"nClass\": 10}, {\"name\": \"hidden\", \"layers\": [{\"name\": \"reshape\", \"shape\": [-1, 28, 28, 1]}, {\"name\": \"conv2d\", \"outSize\": 32, \"act\": \"relu\"}, {\"name\": \"max_pool\"}, {\"name\": \"conv2d\", \"outSize\": 64, \"act\": \"relu\"}, {\"name\": \"max_pool\"}, {\"name\": \"flatten\"}, {\"name\": \"fc\", \"outSize\": 1024, \"act\": \"relu\"}, {\"name\": \"fc\", \"outSize\": 10, \"act\": \"ident\"}]}, {\"name\": \"loss\"}, {\"name\": \"acc\"}], \"train\": {\"learning_rate\": 1e-05, \"batch_size\": 64, \"epoch\": 0.05, \"saver\": {\"evaluate_every\": 100, \"num_checkpoints\": 5}}}, \"update_time\": \"2018-05-26 17:06:59\", \"create_time\": \"2018-05-26 17:06:59\"}, {\"id\": \"20180526124314\", \"body\": {\"layers\": [{\"name\": \"input\", \"width\": 28, \"height\": 28, \"nClass\": 10}, {\"name\": \"hidden\", \"layers\": [{\"name\": \"reshape\", \"shape\": [-1, 28, 28, 1]}, {\"name\": \"conv2d\", \"outSize\": 32, \"act\": \"relu\"}, {\"name\": \"max_pool\"}, {\"name\": \"conv2d\", \"outSize\": 64, \"act\": \"relu\"}, {\"name\": \"max_pool\"}, {\"name\": \"flatten\"}, {\"name\": \"fc\", \"outSize\": 1024, \"act\": \"relu\"}, {\"name\": \"fc\", \"outSize\": 10, \"act\": \"ident\"}]}, {\"name\": \"loss\"}, {\"name\": \"acc\"}], \"train\": {\"learning_rate\": 0.001, \"batch_size\": 64, \"epoch\": 0.05, \"saver\": {\"evaluate_every\": 100, \"num_checkpoints\": 5}}}, \"update_time\": \"2018-05-26 12:43:14\", \"create_time\": \"2018-05-26 12:43:14\"}, {\"id\": \"20180526171111\", \"body\": {\"layers\": [{\"name\": \"input\", \"width\": 28, \"height\": 28, \"nClass\": 10}, {\"name\": \"hidden\", \"layers\": [{\"name\": \"reshape\", \"shape\": [-1, 28, 28, 1]}, {\"name\": \"conv2d\", \"outSize\": 32, \"act\": \"relu\"}, {\"name\": \"max_pool\"}, {\"name\": \"conv2d\", \"outSize\": 64, \"act\": \"relu\"}, {\"name\": \"max_pool\"}, {\"name\": \"flatten\"}, {\"name\": \"fc\", \"outSize\": 1024, \"act\": \"relu\"}, {\"name\": \"fc\", \"outSize\": 10, \"act\": \"ident\"}]}, {\"name\": \"loss\"}, {\"name\": \"acc\"}], \"train\": {\"learning_rate\": 1e-05, \"batch_size\": 64, \"epoch\": 0.05, \"saver\": {\"evaluate_every\": 10, \"num_checkpoints\": 5}}}, \"update_time\": \"2018-05-27 01:12:03\", \"create_time\": \"2018-05-27 01:12:03\"}, {\"id\": \"20180526161128\", \"body\": {\"layers\": [{\"name\": \"input\", \"width\": 28, \"height\": 28, \"nClass\": 10}, {\"name\": \"hidden\", \"layers\": [{\"name\": \"reshape\", \"shape\": [-1, 28, 28, 1]}, {\"name\": \"conv2d\", \"outSize\": 32, \"act\": \"relu\"}, {\"name\": \"max_pool\"}, {\"name\": \"conv2d\", \"outSize\": 64, \"act\": \"relu\"}, {\"name\": \"max_pool\"}, {\"name\": \"flatten\"}, {\"name\": \"fc\", \"outSize\": 1024, \"act\": \"relu\"}, {\"name\": \"fc\", \"outSize\": 10, \"act\": \"ident\"}]}, {\"name\": \"loss\"}, {\"name\": \"acc\"}], \"train\": {\"learning_rate\": 0.001, \"batch_size\": 64, \"epoch\": 0.05, \"saver\": {\"evaluate_every\": 100, \"num_checkpoints\": 5}}}, \"update_time\": \"2018-05-26 16:11:28\", \"create_time\": \"2018-05-26 16:11:28\"}, {\"id\": \"20180615192446\", \"body\": {\"layers\": [{\"id\": 0, \"name\": \"inputData\", \"width\": 28, \"height\": 28, \"nClass\": 10}, {\"id\": 10, \"name\": \"inputLabels\", \"width\": 28, \"height\": 28, \"nClass\": 10}, {\"id\": 1, \"name\": \"reshape\", \"shape\": [-1, 28, 28, 1]}, {\"id\": 2, \"name\": \"conv2d\", \"outSize\": 32, \"act\": \"relu\"}, {\"name\": \"max_pool\"}, {\"id\": 3, \"name\": \"conv2d\", \"outSize\": 64, \"act\": \"relu\"}, {\"id\": 4, \"name\": \"max_pool\"}, {\"id\": 5, \"name\": \"flatten\"}, {\"id\": 6, \"name\": \"fc\", \"outSize\": 1024, \"act\": \"relu\"}, {\"id\": 7, \"name\": \"fc\", \"outSize\": 10, \"act\": \"ident\"}, {\"id\": 8, \"name\": \"loss\"}, {\"id\": 9, \"name\": \"acc\"}], \"edges\": [{\"sourceId\": 0, \"targetId\": 1}, {\"sourceId\": 1, \"targetId\": 2}, {\"sourceId\": 2, \"targetId\": 3}, {\"sourceId\": 3, \"targetId\": 4}, {\"sourceId\": 4, \"targetId\": 5}, {\"sourceId\": 5, \"targetId\": 6}, {\"sourceId\": 6, \"targetId\": 7}, {\"sourceId\": 7, \"targetId\": 8}, {\"sourceId\": 7, \"targetId\": 9}, {\"sourceId\": 10, \"targetId\": 9}], \"train\": {\"learning_rate\": 0.001, \"batch_size\": 64, \"epoch\": 0.05, \"saver\": {\"evaluate_every\": 100, \"num_checkpoints\": 5}}}, \"update_time\": \"2018-06-15 19:24:46\", \"create_time\": \"2018-06-15 19:24:46\"}, {\"id\": \"20180525214226\", \"body\": null, \"update_time\": \"2018-05-25 21:42:26\", \"create_time\": \"2018-05-25 21:42:26\"}, {\"id\": \"20180525213809\", \"body\": null, \"update_time\": \"2018-05-25 21:38:09\", \"create_time\": \"2018-05-25 21:38:09\"}, {\"id\": \"20180615183754\", \"body\": {\"layers\": [{\"id\": 0, \"name\": \"input\", \"width\": 28, \"height\": 28, \"nClass\": 10}, {\"id\": 1, \"name\": \"reshape\", \"shape\": [-1, 28, 28, 1]}, {\"id\": 2, \"name\": \"conv2d\", \"outSize\": 32, \"act\": \"relu\"}, {\"name\": \"max_pool\"}, {\"id\": 3, \"name\": \"conv2d\", \"outSize\": 64, \"act\": \"relu\"}, {\"id\": 4, \"name\": \"max_pool\"}, {\"id\": 5, \"name\": \"flatten\"}, {\"id\": 6, \"name\": \"fc\", \"outSize\": 1024, \"act\": \"relu\"}, {\"id\": 7, \"name\": \"fc\", \"outSize\": 10, \"act\": \"ident\"}, {\"id\": 8, \"name\": \"loss\"}, {\"id\": 9, \"name\": \"acc\"}], \"edges\": [{\"sourceId\": 0, \"targetId\": 1}, {\"sourceId\": 1, \"targetId\": 2}, {\"sourceId\": 2, \"targetId\": 3}, {\"sourceId\": 3, \"targetId\": 4}, {\"sourceId\": 4, \"targetId\": 5}, {\"sourceId\": 5, \"targetId\": 6}, {\"sourceId\": 6, \"targetId\": 7}, {\"sourceId\": 7, \"targetId\": 8}, {\"sourceId\": 7, \"targetId\": 9}, {\"sourceId\": 0, \"targetId\": 9}], \"train\": {\"learning_rate\": 0.001, \"batch_size\": 64, \"epoch\": 0.05, \"saver\": {\"evaluate_every\": 100, \"num_checkpoints\": 5}}}, \"update_time\": \"2018-06-15 18:37:54\", \"create_time\": \"2018-06-15 18:37:54\"}, {\"id\": \"20180526124959\", \"body\": {\"layers\": [{\"name\": \"input\", \"width\": 28, \"height\": 28, \"nClass\": 10}, {\"name\": \"hidden\", \"layers\": [{\"name\": \"reshape\", \"shape\": [-1, 28, 28, 1]}, {\"name\": \"conv2d\", \"outSize\": 32, \"act\": \"relu\"}, {\"name\": \"max_pool\"}, {\"name\": \"conv2d\", \"outSize\": 64, \"act\": \"relu\"}, {\"name\": \"max_pool\"}, {\"name\": \"flatten\"}, {\"name\": \"fc\", \"outSize\": 1024, \"act\": \"relu\"}, {\"name\": \"fc\", \"outSize\": 10, \"act\": \"ident\"}]}, {\"name\": \"loss\"}, {\"name\": \"acc\"}], \"train\": {\"learning_rate\": 0.001, \"batch_size\": 64, \"epoch\": 0.05, \"saver\": {\"evaluate_every\": 100, \"num_checkpoints\": 5}}}, \"update_time\": \"2018-05-26 12:49:59\", \"create_time\": \"2018-05-26 12:49:59\"}, {\"id\": \"20180526125530\", \"body\": {\"layers\": [{\"name\": \"input\", \"width\": 28, \"height\": 28, \"nClass\": 10}, {\"name\": \"hidden\", \"layers\": [{\"name\": \"reshape\", \"shape\": [-1, 28, 28, 1]}, {\"name\": \"conv2d\", \"outSize\": 32, \"act\": \"relu\"}, {\"name\": \"max_pool\"}, {\"name\": \"conv2d\", \"outSize\": 64, \"act\": \"relu\"}, {\"name\": \"max_pool\"}, {\"name\": \"flatten\"}, {\"name\": \"fc\", \"outSize\": 1024, \"act\": \"relu\"}, {\"name\": \"fc\", \"outSize\": 10, \"act\": \"ident\"}]}, {\"name\": \"loss\"}, {\"name\": \"acc\"}], \"train\": {\"learning_rate\": 0.001, \"batch_size\": 64, \"epoch\": 0.05, \"saver\": {\"evaluate_every\": 100, \"num_checkpoints\": 5}}}, \"update_time\": \"2018-05-26 12:55:30\", \"create_time\": \"2018-05-26 12:55:30\"}, {\"id\": \"20180526125509\", \"body\": {\"layers\": [{\"name\": \"input\", \"width\": 28, \"height\": 28, \"nClass\": 10}, {\"name\": \"hidden\", \"layers\": [{\"name\": \"reshape\", \"shape\": [-1, 28, 28, 1]}, {\"name\": \"conv2d\", \"outSize\": 32, \"act\": \"relu\"}, {\"name\": \"max_pool\"}, {\"name\": \"conv2d\", \"outSize\": 64, \"act\": \"relu\"}, {\"name\": \"max_pool\"}, {\"name\": \"flatten\"}, {\"name\": \"fc\", \"outSize\": 1024, \"act\": \"relu\"}, {\"name\": \"fc\", \"outSize\": 10, \"act\": \"ident\"}]}, {\"name\": \"loss\"}, {\"name\": \"acc\"}], \"train\": {\"learning_rate\": 0.001, \"batch_size\": 64, \"epoch\": 0.05, \"saver\": {\"evaluate_every\": 100, \"num_checkpoints\": 5}}}, \"update_time\": \"2018-05-26 12:55:09\", \"create_time\": \"2018-05-26 12:55:09\"}, {\"id\": \"20180524200040\", \"body\": {\"layers\": [{\"name\": \"input\", \"width\": 28, \"height\": 28, \"nClass\": 10}, {\"name\": \"hidden\", \"layers\": [{\"name\": \"reshape\", \"shape\": [-1, 28, 28, 1]}, {\"name\": \"conv2d\", \"outSize\": 32, \"act\": \"relu\"}, {\"name\": \"max_pool\"}, {\"name\": \"conv2d\", \"outSize\": 64, \"act\": \"relu\"}, {\"name\": \"max_pool\"}, {\"name\": \"flatten\"}, {\"name\": \"fc\", \"outSize\": 1024, \"act\": \"relu\"}, {\"name\": \"fc\", \"outSize\": 10, \"act\": \"ident\"}]}, {\"name\": \"loss\"}, {\"name\": \"acc\"}], \"train\": {\"learning_rate\": 0.001, \"batch_size\": 64, \"epoch\": 0.05, \"saver\": {\"evaluate_every\": 100, \"num_checkpoints\": 5}}}, \"update_time\": \"2018-06-15 18:39:05\", \"create_time\": \"2018-06-15 18:39:05\"}, {\"id\": \"20180615185101\", \"body\": {\"layers\": [{\"id\": 0, \"name\": \"inputData\", \"width\": 28, \"height\": 28, \"nClass\": 10}, {\"id\": 10, \"name\": \"inputLabels\", \"width\": 28, \"height\": 28, \"nClass\": 10}, {\"id\": 1, \"name\": \"reshape\", \"shape\": [-1, 28, 28, 1]}, {\"id\": 2, \"name\": \"conv2d\", \"outSize\": 32, \"act\": \"relu\"}, {\"name\": \"max_pool\"}, {\"id\": 3, \"name\": \"conv2d\", \"outSize\": 64, \"act\": \"relu\"}, {\"id\": 4, \"name\": \"max_pool\"}, {\"id\": 5, \"name\": \"flatten\"}, {\"id\": 6, \"name\": \"fc\", \"outSize\": 1024, \"act\": \"relu\"}, {\"id\": 7, \"name\": \"fc\", \"outSize\": 10, \"act\": \"ident\"}, {\"id\": 8, \"name\": \"loss\"}, {\"id\": 9, \"name\": \"acc\"}], \"edges\": [{\"sourceId\": 0, \"targetId\": 1}, {\"sourceId\": 1, \"targetId\": 2}, {\"sourceId\": 2, \"targetId\": 3}, {\"sourceId\": 3, \"targetId\": 4}, {\"sourceId\": 4, \"targetId\": 5}, {\"sourceId\": 5, \"targetId\": 6}, {\"sourceId\": 6, \"targetId\": 7}, {\"sourceId\": 7, \"targetId\": 8}, {\"sourceId\": 7, \"targetId\": 9}, {\"sourceId\": 10, \"targetId\": 9}], \"train\": {\"learning_rate\": 0.001, \"batch_size\": 64, \"epoch\": 0.05, \"saver\": {\"evaluate_every\": 100, \"num_checkpoints\": 5}}}, \"update_time\": \"2018-06-15 18:51:01\", \"create_time\": \"2018-06-15 18:51:01\"}, {\"id\": \"20180615184905\", \"body\": {\"layers\": [{\"id\": 0, \"name\": \"inputData\", \"width\": 28, \"height\": 28, \"nClass\": 10}, {\"id\": 10, \"name\": \"inputLabels\", \"width\": 28, \"height\": 28, \"nClass\": 10}, {\"id\": 1, \"name\": \"reshape\", \"shape\": [-1, 28, 28, 1]}, {\"id\": 2, \"name\": \"conv2d\", \"outSize\": 32, \"act\": \"relu\"}, {\"name\": \"max_pool\"}, {\"id\": 3, \"name\": \"conv2d\", \"outSize\": 64, \"act\": \"relu\"}, {\"id\": 4, \"name\": \"max_pool\"}, {\"id\": 5, \"name\": \"flatten\"}, {\"id\": 6, \"name\": \"fc\", \"outSize\": 1024, \"act\": \"relu\"}, {\"id\": 7, \"name\": \"fc\", \"outSize\": 10, \"act\": \"ident\"}, {\"id\": 8, \"name\": \"loss\"}, {\"id\": 9, \"name\": \"acc\"}], \"edges\": [{\"sourceId\": 0, \"targetId\": 1}, {\"sourceId\": 1, \"targetId\": 2}, {\"sourceId\": 2, \"targetId\": 3}, {\"sourceId\": 3, \"targetId\": 4}, {\"sourceId\": 4, \"targetId\": 5}, {\"sourceId\": 5, \"targetId\": 6}, {\"sourceId\": 6, \"targetId\": 7}, {\"sourceId\": 7, \"targetId\": 8}, {\"sourceId\": 7, \"targetId\": 9}, {\"sourceId\": 10, \"targetId\": 9}], \"train\": {\"learning_rate\": 0.001, \"batch_size\": 64, \"epoch\": 0.05, \"saver\": {\"evaluate_every\": 100, \"num_checkpoints\": 5}}}, \"update_time\": \"2018-06-15 18:49:05\", \"create_time\": \"2018-06-15 18:49:05\"}, {\"id\": \"20180526170838\", \"body\": {\"layers\": [{\"name\": \"input\", \"width\": 28, \"height\": 28, \"nClass\": 10}, {\"name\": \"hidden\", \"layers\": [{\"name\": \"reshape\", \"shape\": [-1, 28, 28, 1]}, {\"name\": \"conv2d\", \"outSize\": 32, \"act\": \"relu\"}, {\"name\": \"max_pool\"}, {\"name\": \"conv2d\", \"outSize\": 64, \"act\": \"relu\"}, {\"name\": \"max_pool\"}, {\"name\": \"flatten\"}, {\"name\": \"fc\", \"outSize\": 1024, \"act\": \"relu\"}, {\"name\": \"fc\", \"outSize\": 10, \"act\": \"ident\"}]}, {\"name\": \"loss\"}, {\"name\": \"acc\"}], \"train\": {\"learning_rate\": 1e-05, \"batch_size\": 64, \"epoch\": 0.05, \"saver\": {\"evaluate_every\": 100, \"num_checkpoints\": 5}}}, \"update_time\": \"2018-05-26 17:08:38\", \"create_time\": \"2018-05-26 17:08:38\"}], \"total\": 18}'"
      ]
     },
     "execution_count": 6,
     "metadata": {},
     "output_type": "execute_result"
    }
   ],
   "source": [
    "r = requests.get(url+\"/recipes?offset=1\")\n",
    "r.content"
   ]
  },
  {
   "cell_type": "code",
   "execution_count": 7,
   "metadata": {},
   "outputs": [],
   "source": [
    "from pathlib import Path"
   ]
  },
  {
   "cell_type": "code",
   "execution_count": 59,
   "metadata": {},
   "outputs": [],
   "source": [
    "recipe  = {\n",
    "    \"info\":{\n",
    "    \"name\": \"CNN1\",\n",
    "    \"description\": \"CNN 1\"\n",
    "  },\n",
    "  \"layers\": [\n",
    "    {\"id\":0, \"name\": \"inputData\", \"width\": 28, \"height\": 28, \"nClass\": 10},\n",
    "    {\"id\":10, \"name\": \"inputLabels\", \"width\": 28, \"height\": 28, \"nClass\": 10}, \n",
    "    {\"id\":1, \"name\": \"reshape\", \"shape\":[-1, 28, 28, 1]},\n",
    "    {\"id\":2, \"name\": \"conv2d\", \"outSize\": 32, \"act\": \"relu\"}, \n",
    "    {\"id\":3, \"name\": \"max_pool\"},\n",
    "    {\"id\":4, \"name\": \"conv2d\", \"outSize\": 64, \"act\": \"relu\"},\n",
    "    {\"id\":5, \"name\": \"max_pool\"},\n",
    "    {\"id\":12, \"name\": \"conv2d\", \"outSize\": 64, \"act\": \"relu\"},\n",
    "    {\"id\":13, \"name\": \"max_pool\"},\n",
    "    {\"id\":6, \"name\": \"flatten\"},\n",
    "    {\"id\":7, \"name\": \"fc\", \"outSize\": 1024, \"act\": \"relu\"},\n",
    "    {\"id\":8, \"name\": \"fc\", \"outSize\": 10, \"act\": \"ident\"},\n",
    "    {\"id\":9, \"name\": \"loss\"},\n",
    "    {\"id\":11, \"name\": \"acc\"}\n",
    "  ],\n",
    "  \"edges\":[\n",
    "    {\"sourceId\": 0, \"targetId\":1},\n",
    "    {\"sourceId\": 1, \"targetId\":2},\n",
    "    {\"sourceId\": 2, \"targetId\":3},\n",
    "    {\"sourceId\": 3, \"targetId\":4},\n",
    "    {\"sourceId\": 4, \"targetId\":5},\n",
    "    {\"sourceId\": 5, \"targetId\":12},\n",
    "    {\"sourceId\": 12, \"targetId\":13},\n",
    "    {\"sourceId\": 13, \"targetId\":6},\n",
    "    {\"sourceId\": 6, \"targetId\":7},\n",
    "    {\"sourceId\": 7, \"targetId\":8},\n",
    "    {\"sourceId\": 8, \"targetId\":9},\n",
    "    {\"sourceId\": 8, \"targetId\":11},\n",
    "    {\"sourceId\": 10, \"targetId\":11}\n",
    "  ],\n",
    "  \"train\": {\n",
    "    \"learning_rate\": 1e-3,\n",
    "    \"batch_size\": 64,\n",
    "    \"epoch\": 0.05,\n",
    "    \"saver\": {\n",
    "      \"evaluate_every\": 100,\n",
    "      \"num_checkpoints\": 5\n",
    "    }\n",
    "  }\n",
    "}"
   ]
  },
  {
   "cell_type": "code",
   "execution_count": 60,
   "metadata": {},
   "outputs": [
    {
     "data": {
      "text/plain": [
       "{'body': {'edges': [{'sourceId': 0, 'targetId': 1},\n",
       "   {'sourceId': 1, 'targetId': 2},\n",
       "   {'sourceId': 2, 'targetId': 3},\n",
       "   {'sourceId': 3, 'targetId': 4},\n",
       "   {'sourceId': 4, 'targetId': 5},\n",
       "   {'sourceId': 5, 'targetId': 12},\n",
       "   {'sourceId': 12, 'targetId': 13},\n",
       "   {'sourceId': 13, 'targetId': 6},\n",
       "   {'sourceId': 6, 'targetId': 7},\n",
       "   {'sourceId': 7, 'targetId': 8},\n",
       "   {'sourceId': 8, 'targetId': 9},\n",
       "   {'sourceId': 8, 'targetId': 11},\n",
       "   {'sourceId': 10, 'targetId': 11}],\n",
       "  'info': {'description': 'CNN 1', 'name': 'CNN1'},\n",
       "  'layers': [{'height': 28,\n",
       "    'id': 0,\n",
       "    'nClass': 10,\n",
       "    'name': 'inputData',\n",
       "    'width': 28},\n",
       "   {'height': 28, 'id': 10, 'nClass': 10, 'name': 'inputLabels', 'width': 28},\n",
       "   {'id': 1, 'name': 'reshape', 'shape': [-1, 28, 28, 1]},\n",
       "   {'act': 'relu', 'id': 2, 'name': 'conv2d', 'outSize': 32},\n",
       "   {'id': 3, 'name': 'max_pool'},\n",
       "   {'act': 'relu', 'id': 4, 'name': 'conv2d', 'outSize': 64},\n",
       "   {'id': 5, 'name': 'max_pool'},\n",
       "   {'act': 'relu', 'id': 12, 'name': 'conv2d', 'outSize': 64},\n",
       "   {'id': 13, 'name': 'max_pool'},\n",
       "   {'id': 6, 'name': 'flatten'},\n",
       "   {'act': 'relu', 'id': 7, 'name': 'fc', 'outSize': 1024},\n",
       "   {'act': 'ident', 'id': 8, 'name': 'fc', 'outSize': 10},\n",
       "   {'id': 9, 'name': 'loss'},\n",
       "   {'id': 11, 'name': 'acc'}],\n",
       "  'train': {'batch_size': 64,\n",
       "   'epoch': 0.05,\n",
       "   'learning_rate': 0.001,\n",
       "   'saver': {'evaluate_every': 100, 'num_checkpoints': 5}}},\n",
       " 'id': '20180615230354'}"
      ]
     },
     "execution_count": 60,
     "metadata": {},
     "output_type": "execute_result"
    }
   ],
   "source": [
    "headers = {'Content-type': 'application/json', 'Accept': 'text/plain'}\n",
    "r = requests.post(recipe_url, data=json.dumps(recipe), headers=headers)\n",
    "r = r.json()\n",
    "r"
   ]
  },
  {
   "cell_type": "code",
   "execution_count": 50,
   "metadata": {},
   "outputs": [
    {
     "data": {
      "text/plain": [
       "'20180615195523'"
      ]
     },
     "execution_count": 50,
     "metadata": {},
     "output_type": "execute_result"
    }
   ],
   "source": [
    "id = r[\"id\"]\n",
    "id"
   ]
  },
  {
   "cell_type": "code",
   "execution_count": null,
   "metadata": {},
   "outputs": [],
   "source": [
    "r = requests.get(url+\"/recipes/\"+r[\"id\"])\n",
    "r = r.json()\n",
    "r"
   ]
  },
  {
   "cell_type": "code",
   "execution_count": null,
   "metadata": {},
   "outputs": [],
   "source": [
    "recipe  = {\n",
    "  \"layers\": [\n",
    "    {\"name\": \"input\", \"width\": 28, \"height\": 28, \"nClass\": 10},\n",
    "    {\n",
    "      \"name\": \"hidden\",\n",
    "      \"layers\":[\n",
    "        {\"name\": \"reshape\", \"shape\":[-1, 28, 28, 1]},\n",
    "        {\"name\": \"conv2d\", \"outSize\": 32, \"act\": \"relu\"}, {\"name\": \"max_pool\"},\n",
    "        {\"name\": \"conv2d\", \"outSize\": 64, \"act\": \"relu\"},\n",
    "        {\"name\": \"max_pool\"},\n",
    "        {\"name\": \"flatten\"},\n",
    "        {\"name\": \"fc\", \"outSize\": 1024, \"act\": \"relu\"},\n",
    "        {\"name\": \"fc\", \"outSize\": 10, \"act\": \"ident\"}\n",
    "      ]\n",
    "    },\n",
    "    {\"name\": \"loss\"},\n",
    "    {\"name\": \"acc\"}\n",
    "  ],\n",
    "  \"train\": {\n",
    "    \"learning_rate\": 1e-5,\n",
    "    \"batch_size\": 64,\n",
    "    \"epoch\": 0.05,\n",
    "    \"saver\": {\n",
    "      \"evaluate_every\": 100,\n",
    "      \"num_checkpoints\": 5\n",
    "    }\n",
    "  }\n",
    "}\n",
    "headers = {'Content-type': 'application/json', 'Accept': 'text/plain'}\n",
    "r = requests.put(recipe_url+\"/\"+r[\"id\"], data=json.dumps(recipe), headers=headers)\n",
    "r = r.json()\n",
    "r"
   ]
  },
  {
   "cell_type": "code",
   "execution_count": null,
   "metadata": {},
   "outputs": [],
   "source": [
    "r = requests.delete(recipe_url+\"/\"+r[\"id\"])\n",
    "r"
   ]
  },
  {
   "cell_type": "code",
   "execution_count": 51,
   "metadata": {},
   "outputs": [
    {
     "name": "stdout",
     "output_type": "stream",
     "text": [
      "init CNN model from recipe_id:  20180615195523\n",
      "./recipes/20180615195523/recipe.json\n",
      "{\n",
      "  \"layers\": [\n",
      "    {\n",
      "      \"id\": 0,\n",
      "      \"name\": \"inputData\",\n",
      "      \"width\": 28,\n",
      "      \"height\": 28,\n",
      "      \"nClass\": 10\n",
      "    },\n",
      "    {\n",
      "      \"id\": 10,\n",
      "      \"name\": \"inputLabels\",\n",
      "      \"width\": 28,\n",
      "      \"height\": 28,\n",
      "      \"nClass\": 10\n",
      "    },\n",
      "    {\n",
      "      \"id\": 1,\n",
      "      \"name\": \"reshape\",\n",
      "      \"shape\": [\n",
      "        -1,\n",
      "        28,\n",
      "        28,\n",
      "        1\n",
      "      ]\n",
      "    },\n",
      "    {\n",
      "      \"id\": 2,\n",
      "      \"name\": \"conv2d\",\n",
      "      \"outSize\": 32,\n",
      "      \"act\": \"relu\"\n",
      "    },\n",
      "    {\n",
      "      \"id\": 3,\n",
      "      \"name\": \"max_pool\"\n",
      "    },\n",
      "    {\n",
      "      \"id\": 4,\n",
      "      \"name\": \"conv2d\",\n",
      "      \"outSize\": 64,\n",
      "      \"act\": \"relu\"\n",
      "    },\n",
      "    {\n",
      "      \"id\": 5,\n",
      "      \"name\": \"max_pool\"\n",
      "    },\n",
      "    {\n",
      "      \"id\": 6,\n",
      "      \"name\": \"flatten\"\n",
      "    },\n",
      "    {\n",
      "      \"id\": 7,\n",
      "      \"name\": \"fc\",\n",
      "      \"outSize\": 1024,\n",
      "      \"act\": \"relu\"\n",
      "    },\n",
      "    {\n",
      "      \"id\": 8,\n",
      "      \"name\": \"fc\",\n",
      "      \"outSize\": 10,\n",
      "      \"act\": \"ident\"\n",
      "    },\n",
      "    {\n",
      "      \"id\": 9,\n",
      "      \"name\": \"loss\"\n",
      "    },\n",
      "    {\n",
      "      \"id\": 11,\n",
      "      \"name\": \"acc\"\n",
      "    }\n",
      "  ],\n",
      "  \"edges\": [\n",
      "    {\n",
      "      \"sourceId\": 0,\n",
      "      \"targetId\": 1\n",
      "    },\n",
      "    {\n",
      "      \"sourceId\": 1,\n",
      "      \"targetId\": 2\n",
      "    },\n",
      "    {\n",
      "      \"sourceId\": 2,\n",
      "      \"targetId\": 3\n",
      "    },\n",
      "    {\n",
      "      \"sourceId\": 3,\n",
      "      \"targetId\": 4\n",
      "    },\n",
      "    {\n",
      "      \"sourceId\": 4,\n",
      "      \"targetId\": 5\n",
      "    },\n",
      "    {\n",
      "      \"sourceId\": 5,\n",
      "      \"targetId\": 6\n",
      "    },\n",
      "    {\n",
      "      \"sourceId\": 6,\n",
      "      \"targetId\": 7\n",
      "    },\n",
      "    {\n",
      "      \"sourceId\": 7,\n",
      "      \"targetId\": 8\n",
      "    },\n",
      "    {\n",
      "      \"sourceId\": 8,\n",
      "      \"targetId\": 9\n",
      "    },\n",
      "    {\n",
      "      \"sourceId\": 8,\n",
      "      \"targetId\": 11\n",
      "    },\n",
      "    {\n",
      "      \"sourceId\": 10,\n",
      "      \"targetId\": 11\n",
      "    }\n",
      "  ],\n",
      "  \"train\": {\n",
      "    \"learning_rate\": 0.001,\n",
      "    \"batch_size\": 64,\n",
      "    \"epoch\": 0.05,\n",
      "    \"saver\": {\n",
      "      \"evaluate_every\": 100,\n",
      "      \"num_checkpoints\": 5\n",
      "    }\n",
      "  }\n",
      "}\n"
     ]
    }
   ],
   "source": [
    "model = CNN(recipe_id='20180615195523')"
   ]
  },
  {
   "cell_type": "code",
   "execution_count": 52,
   "metadata": {},
   "outputs": [
    {
     "name": "stdout",
     "output_type": "stream",
     "text": [
      "# of images:  10000\n",
      "test/train:  0.1\n",
      "test/train: 1000/9000 = 0.1111\n",
      "start session\n",
      "\"target\":[\"source\"]\n",
      "defaultdict(<class 'list'>, {1: [0], 2: [1], 3: [2], 4: [3], 5: [4], 6: [5], 7: [6], 8: [7], 9: [8], 11: [8, 10]})\n",
      "inputData\n",
      "defaultdict(<class 'list'>, {1: [0], 2: [1], 3: [2], 4: [3], 5: [4], 6: [5], 7: [6], 8: [7], 9: [8], 11: [8, 10]})\n",
      "inputLabels\n",
      "defaultdict(<class 'list'>, {1: [<tf.Tensor 'input-data/Placeholder:0' shape=(?, 28, 28) dtype=float32>], 2: [1], 3: [2], 4: [3], 5: [4], 6: [5], 7: [6], 8: [7], 9: [8], 11: [8, 10]})\n",
      "reshape\n",
      "defaultdict(<class 'list'>, {1: [<tf.Tensor 'input-data/Placeholder:0' shape=(?, 28, 28) dtype=float32>], 2: [1], 3: [2], 4: [3], 5: [4], 6: [5], 7: [6], 8: [7], 9: [8], 11: [8, <tf.Tensor 'input-labels/Placeholder:0' shape=(?, 10) dtype=float32>]})\n",
      "conv2d\n",
      "defaultdict(<class 'list'>, {1: [<tf.Tensor 'input-data/Placeholder:0' shape=(?, 28, 28) dtype=float32>], 2: [<tf.Tensor 'reshape/Reshape:0' shape=(?, 28, 28, 1) dtype=float32>], 3: [2], 4: [3], 5: [4], 6: [5], 7: [6], 8: [7], 9: [8], 11: [8, <tf.Tensor 'input-labels/Placeholder:0' shape=(?, 10) dtype=float32>]})\n",
      "max_pool\n",
      "defaultdict(<class 'list'>, {1: [<tf.Tensor 'input-data/Placeholder:0' shape=(?, 28, 28) dtype=float32>], 2: [<tf.Tensor 'reshape/Reshape:0' shape=(?, 28, 28, 1) dtype=float32>], 3: [<tf.Tensor 'Relu:0' shape=(?, 28, 28, 32) dtype=float32>], 4: [3], 5: [4], 6: [5], 7: [6], 8: [7], 9: [8], 11: [8, <tf.Tensor 'input-labels/Placeholder:0' shape=(?, 10) dtype=float32>]})\n",
      "conv2d\n",
      "defaultdict(<class 'list'>, {1: [<tf.Tensor 'input-data/Placeholder:0' shape=(?, 28, 28) dtype=float32>], 2: [<tf.Tensor 'reshape/Reshape:0' shape=(?, 28, 28, 1) dtype=float32>], 3: [<tf.Tensor 'Relu:0' shape=(?, 28, 28, 32) dtype=float32>], 4: [<tf.Tensor 'pool_1/MaxPool:0' shape=(?, 14, 14, 32) dtype=float32>], 5: [4], 6: [5], 7: [6], 8: [7], 9: [8], 11: [8, <tf.Tensor 'input-labels/Placeholder:0' shape=(?, 10) dtype=float32>]})\n",
      "max_pool\n",
      "defaultdict(<class 'list'>, {1: [<tf.Tensor 'input-data/Placeholder:0' shape=(?, 28, 28) dtype=float32>], 2: [<tf.Tensor 'reshape/Reshape:0' shape=(?, 28, 28, 1) dtype=float32>], 3: [<tf.Tensor 'Relu:0' shape=(?, 28, 28, 32) dtype=float32>], 4: [<tf.Tensor 'pool_1/MaxPool:0' shape=(?, 14, 14, 32) dtype=float32>], 5: [<tf.Tensor 'Relu_1:0' shape=(?, 14, 14, 64) dtype=float32>], 6: [5], 7: [6], 8: [7], 9: [8], 11: [8, <tf.Tensor 'input-labels/Placeholder:0' shape=(?, 10) dtype=float32>]})\n",
      "flatten\n",
      "defaultdict(<class 'list'>, {1: [<tf.Tensor 'input-data/Placeholder:0' shape=(?, 28, 28) dtype=float32>], 2: [<tf.Tensor 'reshape/Reshape:0' shape=(?, 28, 28, 1) dtype=float32>], 3: [<tf.Tensor 'Relu:0' shape=(?, 28, 28, 32) dtype=float32>], 4: [<tf.Tensor 'pool_1/MaxPool:0' shape=(?, 14, 14, 32) dtype=float32>], 5: [<tf.Tensor 'Relu_1:0' shape=(?, 14, 14, 64) dtype=float32>], 6: [<tf.Tensor 'pool_1_1/MaxPool:0' shape=(?, 7, 7, 64) dtype=float32>], 7: [6], 8: [7], 9: [8], 11: [8, <tf.Tensor 'input-labels/Placeholder:0' shape=(?, 10) dtype=float32>]})\n",
      "fc\n",
      "defaultdict(<class 'list'>, {1: [<tf.Tensor 'input-data/Placeholder:0' shape=(?, 28, 28) dtype=float32>], 2: [<tf.Tensor 'reshape/Reshape:0' shape=(?, 28, 28, 1) dtype=float32>], 3: [<tf.Tensor 'Relu:0' shape=(?, 28, 28, 32) dtype=float32>], 4: [<tf.Tensor 'pool_1/MaxPool:0' shape=(?, 14, 14, 32) dtype=float32>], 5: [<tf.Tensor 'Relu_1:0' shape=(?, 14, 14, 64) dtype=float32>], 6: [<tf.Tensor 'pool_1_1/MaxPool:0' shape=(?, 7, 7, 64) dtype=float32>], 7: [<tf.Tensor 'flatten/Reshape:0' shape=(?, 3136) dtype=float32>], 8: [7], 9: [8], 11: [8, <tf.Tensor 'input-labels/Placeholder:0' shape=(?, 10) dtype=float32>]})\n",
      "fc\n",
      "defaultdict(<class 'list'>, {1: [<tf.Tensor 'input-data/Placeholder:0' shape=(?, 28, 28) dtype=float32>], 2: [<tf.Tensor 'reshape/Reshape:0' shape=(?, 28, 28, 1) dtype=float32>], 3: [<tf.Tensor 'Relu:0' shape=(?, 28, 28, 32) dtype=float32>], 4: [<tf.Tensor 'pool_1/MaxPool:0' shape=(?, 14, 14, 32) dtype=float32>], 5: [<tf.Tensor 'Relu_1:0' shape=(?, 14, 14, 64) dtype=float32>], 6: [<tf.Tensor 'pool_1_1/MaxPool:0' shape=(?, 7, 7, 64) dtype=float32>], 7: [<tf.Tensor 'flatten/Reshape:0' shape=(?, 3136) dtype=float32>], 8: [<tf.Tensor 'Relu_2:0' shape=(?, 1024) dtype=float32>], 9: [8], 11: [8, <tf.Tensor 'input-labels/Placeholder:0' shape=(?, 10) dtype=float32>]})\n",
      "loss\n",
      "defaultdict(<class 'list'>, {1: [<tf.Tensor 'input-data/Placeholder:0' shape=(?, 28, 28) dtype=float32>], 2: [<tf.Tensor 'reshape/Reshape:0' shape=(?, 28, 28, 1) dtype=float32>], 3: [<tf.Tensor 'Relu:0' shape=(?, 28, 28, 32) dtype=float32>], 4: [<tf.Tensor 'pool_1/MaxPool:0' shape=(?, 14, 14, 32) dtype=float32>], 5: [<tf.Tensor 'Relu_1:0' shape=(?, 14, 14, 64) dtype=float32>], 6: [<tf.Tensor 'pool_1_1/MaxPool:0' shape=(?, 7, 7, 64) dtype=float32>], 7: [<tf.Tensor 'flatten/Reshape:0' shape=(?, 3136) dtype=float32>], 8: [<tf.Tensor 'Relu_2:0' shape=(?, 1024) dtype=float32>], 9: [<tf.Tensor 'fc_1/BiasAdd:0' shape=(?, 10) dtype=float32>], 11: [<tf.Tensor 'input-labels/Placeholder:0' shape=(?, 10) dtype=float32>, <tf.Tensor 'fc_1/BiasAdd:0' shape=(?, 10) dtype=float32>]})\n",
      "acc\n",
      "defaultdict(<class 'list'>, {1: [<tf.Tensor 'input-data/Placeholder:0' shape=(?, 28, 28) dtype=float32>], 2: [<tf.Tensor 'reshape/Reshape:0' shape=(?, 28, 28, 1) dtype=float32>], 3: [<tf.Tensor 'Relu:0' shape=(?, 28, 28, 32) dtype=float32>], 4: [<tf.Tensor 'pool_1/MaxPool:0' shape=(?, 14, 14, 32) dtype=float32>], 5: [<tf.Tensor 'Relu_1:0' shape=(?, 14, 14, 64) dtype=float32>], 6: [<tf.Tensor 'pool_1_1/MaxPool:0' shape=(?, 7, 7, 64) dtype=float32>], 7: [<tf.Tensor 'flatten/Reshape:0' shape=(?, 3136) dtype=float32>], 8: [<tf.Tensor 'Relu_2:0' shape=(?, 1024) dtype=float32>], 9: [<tf.Tensor 'fc_1/BiasAdd:0' shape=(?, 10) dtype=float32>], 11: [<tf.Tensor 'input-labels/Placeholder:0' shape=(?, 10) dtype=float32>, <tf.Tensor 'fc_1/BiasAdd:0' shape=(?, 10) dtype=float32>]})\n",
      "###############\n",
      "defaultdict(<class 'list'>, {1: [<tf.Tensor 'input-data/Placeholder:0' shape=(?, 28, 28) dtype=float32>], 2: [<tf.Tensor 'reshape/Reshape:0' shape=(?, 28, 28, 1) dtype=float32>], 3: [<tf.Tensor 'Relu:0' shape=(?, 28, 28, 32) dtype=float32>], 4: [<tf.Tensor 'pool_1/MaxPool:0' shape=(?, 14, 14, 32) dtype=float32>], 5: [<tf.Tensor 'Relu_1:0' shape=(?, 14, 14, 64) dtype=float32>], 6: [<tf.Tensor 'pool_1_1/MaxPool:0' shape=(?, 7, 7, 64) dtype=float32>], 7: [<tf.Tensor 'flatten/Reshape:0' shape=(?, 3136) dtype=float32>], 8: [<tf.Tensor 'Relu_2:0' shape=(?, 1024) dtype=float32>], 9: [<tf.Tensor 'fc_1/BiasAdd:0' shape=(?, 10) dtype=float32>], 11: [<tf.Tensor 'input-labels/Placeholder:0' shape=(?, 10) dtype=float32>, <tf.Tensor 'fc_1/BiasAdd:0' shape=(?, 10) dtype=float32>]})\n",
      "###############\n"
     ]
    },
    {
     "name": "stderr",
     "output_type": "stream",
     "text": [
      "  0%|          | 2/450 [00:00<01:45,  4.24it/s]"
     ]
    },
    {
     "name": "stdout",
     "output_type": "stream",
     "text": [
      "step 0, training loss 3.11294, training accuracy 0.21875\n"
     ]
    },
    {
     "name": "stderr",
     "output_type": "stream",
     "text": [
      " 11%|█▏        | 51/450 [00:10<01:21,  4.92it/s]"
     ]
    },
    {
     "name": "stdout",
     "output_type": "stream",
     "text": [
      "step 50, test loss 0.138523, test accuracy 0.951\n"
     ]
    },
    {
     "name": "stderr",
     "output_type": "stream",
     "text": [
      " 22%|██▏       | 100/450 [00:18<01:03,  5.48it/s]"
     ]
    },
    {
     "name": "stdout",
     "output_type": "stream",
     "text": [
      "step 100, training loss 0.0682651, training accuracy 0.984375\n"
     ]
    },
    {
     "name": "stderr",
     "output_type": "stream",
     "text": [
      "\r",
      " 22%|██▏       | 101/450 [00:19<01:06,  5.24it/s]"
     ]
    },
    {
     "name": "stdout",
     "output_type": "stream",
     "text": [
      "step 100, test loss 0.0871528, test accuracy 0.974\n"
     ]
    },
    {
     "name": "stderr",
     "output_type": "stream",
     "text": [
      " 34%|███▍      | 152/450 [00:28<00:55,  5.41it/s]"
     ]
    },
    {
     "name": "stdout",
     "output_type": "stream",
     "text": [
      "step 150, test loss 0.0886256, test accuracy 0.973\n"
     ]
    },
    {
     "name": "stderr",
     "output_type": "stream",
     "text": [
      " 44%|████▍     | 200/450 [00:35<00:44,  5.59it/s]"
     ]
    },
    {
     "name": "stdout",
     "output_type": "stream",
     "text": [
      "step 200, training loss 0.0318079, training accuracy 0.984375\n"
     ]
    },
    {
     "name": "stderr",
     "output_type": "stream",
     "text": [
      " 45%|████▍     | 202/450 [00:37<00:45,  5.43it/s]"
     ]
    },
    {
     "name": "stdout",
     "output_type": "stream",
     "text": [
      "step 200, test loss 0.0497344, test accuracy 0.983\n"
     ]
    },
    {
     "name": "stderr",
     "output_type": "stream",
     "text": [
      " 56%|█████▌    | 250/450 [00:45<00:36,  5.54it/s]"
     ]
    },
    {
     "ename": "KeyboardInterrupt",
     "evalue": "",
     "output_type": "error",
     "traceback": [
      "\u001b[0;31m---------------------------------------------------------------------------\u001b[0m",
      "\u001b[0;31mKeyboardInterrupt\u001b[0m                         Traceback (most recent call last)",
      "\u001b[0;32m<ipython-input-52-b5a95e43a7f2>\u001b[0m in \u001b[0;36m<module>\u001b[0;34m()\u001b[0m\n\u001b[0;32m----> 1\u001b[0;31m \u001b[0mmodel\u001b[0m\u001b[0;34m.\u001b[0m\u001b[0mtrain\u001b[0m\u001b[0;34m(\u001b[0m\u001b[0;34m\"20180524202024\"\u001b[0m\u001b[0;34m)\u001b[0m\u001b[0;34m\u001b[0m\u001b[0m\n\u001b[0m",
      "\u001b[0;32m~/Workspace/matrixflow/src/models/cnn/cnn.py\u001b[0m in \u001b[0;36mtrain\u001b[0;34m(self, data_path, ws)\u001b[0m\n\u001b[1;32m    154\u001b[0m                         \u001b[0mlabels\u001b[0m\u001b[0;34m,\u001b[0m \u001b[0mimages\u001b[0m \u001b[0;34m=\u001b[0m \u001b[0mself\u001b[0m\u001b[0;34m.\u001b[0m\u001b[0mima\u001b[0m\u001b[0;34m.\u001b[0m\u001b[0mnext_batch\u001b[0m\u001b[0;34m(\u001b[0m\u001b[0;34m\"test\"\u001b[0m\u001b[0;34m,\u001b[0m \u001b[0mself\u001b[0m\u001b[0;34m.\u001b[0m\u001b[0mima\u001b[0m\u001b[0;34m.\u001b[0m\u001b[0mn_test\u001b[0m\u001b[0;34m)\u001b[0m\u001b[0;34m\u001b[0m\u001b[0m\n\u001b[1;32m    155\u001b[0m                         \u001b[0mfeed\u001b[0m \u001b[0;34m=\u001b[0m \u001b[0;34m{\u001b[0m\u001b[0mself\u001b[0m\u001b[0;34m.\u001b[0m\u001b[0mx\u001b[0m\u001b[0;34m:\u001b[0m \u001b[0mimages\u001b[0m\u001b[0;34m,\u001b[0m \u001b[0mself\u001b[0m\u001b[0;34m.\u001b[0m\u001b[0my\u001b[0m\u001b[0;34m:\u001b[0m \u001b[0mlabels\u001b[0m\u001b[0;34m}\u001b[0m\u001b[0;34m\u001b[0m\u001b[0m\n\u001b[0;32m--> 156\u001b[0;31m                         \u001b[0mtest_loss\u001b[0m\u001b[0;34m,\u001b[0m \u001b[0mtest_accuracy\u001b[0m \u001b[0;34m=\u001b[0m \u001b[0msess\u001b[0m\u001b[0;34m.\u001b[0m\u001b[0mrun\u001b[0m\u001b[0;34m(\u001b[0m\u001b[0;34m[\u001b[0m\u001b[0mself\u001b[0m\u001b[0;34m.\u001b[0m\u001b[0mloss\u001b[0m\u001b[0;34m,\u001b[0m \u001b[0mself\u001b[0m\u001b[0;34m.\u001b[0m\u001b[0maccuracy\u001b[0m\u001b[0;34m]\u001b[0m\u001b[0;34m,\u001b[0m \u001b[0mfeed_dict\u001b[0m\u001b[0;34m=\u001b[0m\u001b[0mfeed\u001b[0m\u001b[0;34m)\u001b[0m\u001b[0;34m\u001b[0m\u001b[0m\n\u001b[0m\u001b[1;32m    157\u001b[0m                         \u001b[0mprint\u001b[0m\u001b[0;34m(\u001b[0m\u001b[0;34m'step %d, test loss %g, test accuracy %g'\u001b[0m \u001b[0;34m%\u001b[0m \u001b[0;34m(\u001b[0m\u001b[0mi\u001b[0m\u001b[0;34m,\u001b[0m \u001b[0mtest_loss\u001b[0m\u001b[0;34m,\u001b[0m \u001b[0mtest_accuracy\u001b[0m\u001b[0;34m)\u001b[0m\u001b[0;34m)\u001b[0m\u001b[0;34m\u001b[0m\u001b[0m\n\u001b[1;32m    158\u001b[0m                         \u001b[0;32mif\u001b[0m \u001b[0mws\u001b[0m\u001b[0;34m:\u001b[0m\u001b[0;34m\u001b[0m\u001b[0m\n",
      "\u001b[0;32m~/anaconda2/envs/py3.6/lib/python3.6/site-packages/tensorflow/python/client/session.py\u001b[0m in \u001b[0;36mrun\u001b[0;34m(self, fetches, feed_dict, options, run_metadata)\u001b[0m\n\u001b[1;32m    898\u001b[0m     \u001b[0;32mtry\u001b[0m\u001b[0;34m:\u001b[0m\u001b[0;34m\u001b[0m\u001b[0m\n\u001b[1;32m    899\u001b[0m       result = self._run(None, fetches, feed_dict, options_ptr,\n\u001b[0;32m--> 900\u001b[0;31m                          run_metadata_ptr)\n\u001b[0m\u001b[1;32m    901\u001b[0m       \u001b[0;32mif\u001b[0m \u001b[0mrun_metadata\u001b[0m\u001b[0;34m:\u001b[0m\u001b[0;34m\u001b[0m\u001b[0m\n\u001b[1;32m    902\u001b[0m         \u001b[0mproto_data\u001b[0m \u001b[0;34m=\u001b[0m \u001b[0mtf_session\u001b[0m\u001b[0;34m.\u001b[0m\u001b[0mTF_GetBuffer\u001b[0m\u001b[0;34m(\u001b[0m\u001b[0mrun_metadata_ptr\u001b[0m\u001b[0;34m)\u001b[0m\u001b[0;34m\u001b[0m\u001b[0m\n",
      "\u001b[0;32m~/anaconda2/envs/py3.6/lib/python3.6/site-packages/tensorflow/python/client/session.py\u001b[0m in \u001b[0;36m_run\u001b[0;34m(self, handle, fetches, feed_dict, options, run_metadata)\u001b[0m\n\u001b[1;32m   1133\u001b[0m     \u001b[0;32mif\u001b[0m \u001b[0mfinal_fetches\u001b[0m \u001b[0;32mor\u001b[0m \u001b[0mfinal_targets\u001b[0m \u001b[0;32mor\u001b[0m \u001b[0;34m(\u001b[0m\u001b[0mhandle\u001b[0m \u001b[0;32mand\u001b[0m \u001b[0mfeed_dict_tensor\u001b[0m\u001b[0;34m)\u001b[0m\u001b[0;34m:\u001b[0m\u001b[0;34m\u001b[0m\u001b[0m\n\u001b[1;32m   1134\u001b[0m       results = self._do_run(handle, final_targets, final_fetches,\n\u001b[0;32m-> 1135\u001b[0;31m                              feed_dict_tensor, options, run_metadata)\n\u001b[0m\u001b[1;32m   1136\u001b[0m     \u001b[0;32melse\u001b[0m\u001b[0;34m:\u001b[0m\u001b[0;34m\u001b[0m\u001b[0m\n\u001b[1;32m   1137\u001b[0m       \u001b[0mresults\u001b[0m \u001b[0;34m=\u001b[0m \u001b[0;34m[\u001b[0m\u001b[0;34m]\u001b[0m\u001b[0;34m\u001b[0m\u001b[0m\n",
      "\u001b[0;32m~/anaconda2/envs/py3.6/lib/python3.6/site-packages/tensorflow/python/client/session.py\u001b[0m in \u001b[0;36m_do_run\u001b[0;34m(self, handle, target_list, fetch_list, feed_dict, options, run_metadata)\u001b[0m\n\u001b[1;32m   1314\u001b[0m     \u001b[0;32mif\u001b[0m \u001b[0mhandle\u001b[0m \u001b[0;32mis\u001b[0m \u001b[0;32mNone\u001b[0m\u001b[0;34m:\u001b[0m\u001b[0;34m\u001b[0m\u001b[0m\n\u001b[1;32m   1315\u001b[0m       return self._do_call(_run_fn, feeds, fetches, targets, options,\n\u001b[0;32m-> 1316\u001b[0;31m                            run_metadata)\n\u001b[0m\u001b[1;32m   1317\u001b[0m     \u001b[0;32melse\u001b[0m\u001b[0;34m:\u001b[0m\u001b[0;34m\u001b[0m\u001b[0m\n\u001b[1;32m   1318\u001b[0m       \u001b[0;32mreturn\u001b[0m \u001b[0mself\u001b[0m\u001b[0;34m.\u001b[0m\u001b[0m_do_call\u001b[0m\u001b[0;34m(\u001b[0m\u001b[0m_prun_fn\u001b[0m\u001b[0;34m,\u001b[0m \u001b[0mhandle\u001b[0m\u001b[0;34m,\u001b[0m \u001b[0mfeeds\u001b[0m\u001b[0;34m,\u001b[0m \u001b[0mfetches\u001b[0m\u001b[0;34m)\u001b[0m\u001b[0;34m\u001b[0m\u001b[0m\n",
      "\u001b[0;32m~/anaconda2/envs/py3.6/lib/python3.6/site-packages/tensorflow/python/client/session.py\u001b[0m in \u001b[0;36m_do_call\u001b[0;34m(self, fn, *args)\u001b[0m\n\u001b[1;32m   1320\u001b[0m   \u001b[0;32mdef\u001b[0m \u001b[0m_do_call\u001b[0m\u001b[0;34m(\u001b[0m\u001b[0mself\u001b[0m\u001b[0;34m,\u001b[0m \u001b[0mfn\u001b[0m\u001b[0;34m,\u001b[0m \u001b[0;34m*\u001b[0m\u001b[0margs\u001b[0m\u001b[0;34m)\u001b[0m\u001b[0;34m:\u001b[0m\u001b[0;34m\u001b[0m\u001b[0m\n\u001b[1;32m   1321\u001b[0m     \u001b[0;32mtry\u001b[0m\u001b[0;34m:\u001b[0m\u001b[0;34m\u001b[0m\u001b[0m\n\u001b[0;32m-> 1322\u001b[0;31m       \u001b[0;32mreturn\u001b[0m \u001b[0mfn\u001b[0m\u001b[0;34m(\u001b[0m\u001b[0;34m*\u001b[0m\u001b[0margs\u001b[0m\u001b[0;34m)\u001b[0m\u001b[0;34m\u001b[0m\u001b[0m\n\u001b[0m\u001b[1;32m   1323\u001b[0m     \u001b[0;32mexcept\u001b[0m \u001b[0merrors\u001b[0m\u001b[0;34m.\u001b[0m\u001b[0mOpError\u001b[0m \u001b[0;32mas\u001b[0m \u001b[0me\u001b[0m\u001b[0;34m:\u001b[0m\u001b[0;34m\u001b[0m\u001b[0m\n\u001b[1;32m   1324\u001b[0m       \u001b[0mmessage\u001b[0m \u001b[0;34m=\u001b[0m \u001b[0mcompat\u001b[0m\u001b[0;34m.\u001b[0m\u001b[0mas_text\u001b[0m\u001b[0;34m(\u001b[0m\u001b[0me\u001b[0m\u001b[0;34m.\u001b[0m\u001b[0mmessage\u001b[0m\u001b[0;34m)\u001b[0m\u001b[0;34m\u001b[0m\u001b[0m\n",
      "\u001b[0;32m~/anaconda2/envs/py3.6/lib/python3.6/site-packages/tensorflow/python/client/session.py\u001b[0m in \u001b[0;36m_run_fn\u001b[0;34m(feed_dict, fetch_list, target_list, options, run_metadata)\u001b[0m\n\u001b[1;32m   1305\u001b[0m       \u001b[0mself\u001b[0m\u001b[0;34m.\u001b[0m\u001b[0m_extend_graph\u001b[0m\u001b[0;34m(\u001b[0m\u001b[0;34m)\u001b[0m\u001b[0;34m\u001b[0m\u001b[0m\n\u001b[1;32m   1306\u001b[0m       return self._call_tf_sessionrun(\n\u001b[0;32m-> 1307\u001b[0;31m           options, feed_dict, fetch_list, target_list, run_metadata)\n\u001b[0m\u001b[1;32m   1308\u001b[0m \u001b[0;34m\u001b[0m\u001b[0m\n\u001b[1;32m   1309\u001b[0m     \u001b[0;32mdef\u001b[0m \u001b[0m_prun_fn\u001b[0m\u001b[0;34m(\u001b[0m\u001b[0mhandle\u001b[0m\u001b[0;34m,\u001b[0m \u001b[0mfeed_dict\u001b[0m\u001b[0;34m,\u001b[0m \u001b[0mfetch_list\u001b[0m\u001b[0;34m)\u001b[0m\u001b[0;34m:\u001b[0m\u001b[0;34m\u001b[0m\u001b[0m\n",
      "\u001b[0;32m~/anaconda2/envs/py3.6/lib/python3.6/site-packages/tensorflow/python/client/session.py\u001b[0m in \u001b[0;36m_call_tf_sessionrun\u001b[0;34m(self, options, feed_dict, fetch_list, target_list, run_metadata)\u001b[0m\n\u001b[1;32m   1407\u001b[0m       return tf_session.TF_SessionRun_wrapper(\n\u001b[1;32m   1408\u001b[0m           \u001b[0mself\u001b[0m\u001b[0;34m.\u001b[0m\u001b[0m_session\u001b[0m\u001b[0;34m,\u001b[0m \u001b[0moptions\u001b[0m\u001b[0;34m,\u001b[0m \u001b[0mfeed_dict\u001b[0m\u001b[0;34m,\u001b[0m \u001b[0mfetch_list\u001b[0m\u001b[0;34m,\u001b[0m \u001b[0mtarget_list\u001b[0m\u001b[0;34m,\u001b[0m\u001b[0;34m\u001b[0m\u001b[0m\n\u001b[0;32m-> 1409\u001b[0;31m           run_metadata)\n\u001b[0m\u001b[1;32m   1410\u001b[0m     \u001b[0;32melse\u001b[0m\u001b[0;34m:\u001b[0m\u001b[0;34m\u001b[0m\u001b[0m\n\u001b[1;32m   1411\u001b[0m       \u001b[0;32mwith\u001b[0m \u001b[0merrors\u001b[0m\u001b[0;34m.\u001b[0m\u001b[0mraise_exception_on_not_ok_status\u001b[0m\u001b[0;34m(\u001b[0m\u001b[0;34m)\u001b[0m \u001b[0;32mas\u001b[0m \u001b[0mstatus\u001b[0m\u001b[0;34m:\u001b[0m\u001b[0;34m\u001b[0m\u001b[0m\n",
      "\u001b[0;31mKeyboardInterrupt\u001b[0m: "
     ]
    }
   ],
   "source": [
    "model.train(\"20180524202024\")"
   ]
  },
  {
   "cell_type": "code",
   "execution_count": null,
   "metadata": {},
   "outputs": [],
   "source": [
    "model.ima.test_images[0]"
   ]
  },
  {
   "cell_type": "code",
   "execution_count": null,
   "metadata": {},
   "outputs": [],
   "source": [
    "model.ima.train_images[0]"
   ]
  },
  {
   "cell_type": "code",
   "execution_count": null,
   "metadata": {},
   "outputs": [],
   "source": [
    "model.ima.imread(str(model.ima.test_images[0])).shape"
   ]
  },
  {
   "cell_type": "code",
   "execution_count": null,
   "metadata": {},
   "outputs": [],
   "source": [
    "config = model.recipe[\"train\"]\n",
    "config"
   ]
  },
  {
   "cell_type": "code",
   "execution_count": null,
   "metadata": {
    "scrolled": false
   },
   "outputs": [],
   "source": [
    " if _ in range(epoch * self.ima.n_train):\n",
    "    labels, images = self.ima.next_batch(\"train\", batch_size)"
   ]
  },
  {
   "cell_type": "code",
   "execution_count": null,
   "metadata": {},
   "outputs": [],
   "source": []
  },
  {
   "cell_type": "code",
   "execution_count": null,
   "metadata": {},
   "outputs": [],
   "source": [
    "from filemanager import get_data_list"
   ]
  },
  {
   "cell_type": "code",
   "execution_count": null,
   "metadata": {},
   "outputs": [],
   "source": [
    "get_data_list()"
   ]
  },
  {
   "cell_type": "code",
   "execution_count": null,
   "metadata": {},
   "outputs": [],
   "source": []
  }
 ],
 "metadata": {
  "kernelspec": {
   "display_name": "Environment (conda_py3.6)",
   "language": "python",
   "name": "conda_py3.6"
  },
  "language_info": {
   "codemirror_mode": {
    "name": "ipython",
    "version": 3
   },
   "file_extension": ".py",
   "mimetype": "text/x-python",
   "name": "python",
   "nbconvert_exporter": "python",
   "pygments_lexer": "ipython3",
   "version": "3.6.4"
  }
 },
 "nbformat": 4,
 "nbformat_minor": 2
}
